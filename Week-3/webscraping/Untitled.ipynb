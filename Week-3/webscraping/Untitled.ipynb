{
 "cells": [
  {
   "cell_type": "code",
   "execution_count": 3,
   "metadata": {},
   "outputs": [],
   "source": [
    "import requests\n"
   ]
  },
  {
   "cell_type": "code",
   "execution_count": 4,
   "metadata": {},
   "outputs": [],
   "source": [
    "imdb_db=[]"
   ]
  },
  {
   "cell_type": "code",
   "execution_count": 5,
   "metadata": {},
   "outputs": [],
   "source": [
    "imdb_id =  (\"tt0111161\",\n",
    "            \"tt0068646\",\n",
    "            \"tt0468569\",\n",
    "            \"tt7286456\",\n",
    "            \"tt1302006\",\n",
    "            \"tt6751668\",\n",
    "            \"tt0103064\",\n",
    "            \"tt0172495\",\n",
    "            \"tt7984734\",\n",
    "            \"tt0081505\",\n",
    "            \"tt1345836\",\n",
    "            \"tt0075314\",\n",
    "            \"tt7131622\",\n",
    "            \"tt1979376\",\n",
    "            \"tt0088247\",\n",
    "            \"tt1798709\",\n",
    "            \"tt10915286\")"
   ]
  },
  {
   "cell_type": "code",
   "execution_count": 6,
   "metadata": {},
   "outputs": [],
   "source": [
    "url = 'https://www.imdb.com/chart/moviemeter?sort=ir,desc&mode=simple&page=1'"
   ]
  },
  {
   "cell_type": "code",
   "execution_count": 7,
   "metadata": {},
   "outputs": [
    {
     "ename": "SyntaxError",
     "evalue": "unexpected EOF while parsing (<ipython-input-7-95aae6ea7bca>, line 2)",
     "output_type": "error",
     "traceback": [
      "\u001b[0;36m  File \u001b[0;32m\"<ipython-input-7-95aae6ea7bca>\"\u001b[0;36m, line \u001b[0;32m2\u001b[0m\n\u001b[0;31m    \u001b[0m\n\u001b[0m    ^\u001b[0m\n\u001b[0;31mSyntaxError\u001b[0m\u001b[0;31m:\u001b[0m unexpected EOF while parsing\n"
     ]
    }
   ],
   "source": [
    "for id in imdb_id:\n",
    "    "
   ]
  },
  {
   "cell_type": "code",
   "execution_count": 18,
   "metadata": {},
   "outputs": [
    {
     "data": {
      "text/plain": [
       "b'{\"Title\":\"Maleficent: Mistress of Evil\",\"Year\":\"2019\",\"Rated\":\"PG\",\"Released\":\"18 Oct 2019\",\"Runtime\":\"118 min\",\"Genre\":\"Adventure, Family, Fantasy\",\"Director\":\"Joachim R\\xc3\\xb8nning\",\"Writer\":\"Micah Fitzerman-Blue (screenplay by), Noah Harpster (screenplay by), Linda Woolverton (screenplay by), Linda Woolverton (story by)\",\"Actors\":\"Angelina Jolie, Elle Fanning, Imelda Staunton, Michelle Pfeiffer\",\"Plot\":\"Maleficent and her goddaughter Aurora begin to question the complex family ties that bind them as they are pulled in different directions by impending nuptials, unexpected allies, and dark new forces at play.\",\"Language\":\"English\",\"Country\":\"USA\",\"Awards\":\"N/A\",\"Poster\":\"https://m.media-amazon.com/images/M/MV5BZjJiYTExOTAtNWU0Yi00NzJjLTkwOTgtOTU2NWM1ZjJmYWVhXkEyXkFqcGdeQXVyMTkxNjUyNQ@@._V1_SX300.jpg\",\"Ratings\":[{\"Source\":\"Rotten Tomatoes\",\"Value\":\"51%\"}],\"Metascore\":\"N/A\",\"imdbRating\":\"N/A\",\"imdbVotes\":\"N/A\",\"imdbID\":\"tt4777008\",\"Type\":\"movie\",\"DVD\":\"N/A\",\"BoxOffice\":\"N/A\",\"Production\":\"Walt Disney Pictures\",\"Website\":\"N/A\",\"Response\":\"True\"}'"
      ]
     },
     "execution_count": 18,
     "metadata": {},
     "output_type": "execute_result"
    }
   ],
   "source": [
    "\n",
    "page1 = requests.get(\"http://www.omdbapi.com/?i=tt4777008&apikey=6d18c241\")\n",
    "page1.content\n",
    "# imdb_db.append(page1)"
   ]
  },
  {
   "cell_type": "code",
   "execution_count": 11,
   "metadata": {},
   "outputs": [
    {
     "ename": "IndexError",
     "evalue": "list index out of range",
     "output_type": "error",
     "traceback": [
      "\u001b[0;31m---------------------------------------------------------------------------\u001b[0m",
      "\u001b[0;31mIndexError\u001b[0m                                Traceback (most recent call last)",
      "\u001b[0;32m<ipython-input-11-3d5dc001ff30>\u001b[0m in \u001b[0;36m<module>\u001b[0;34m\u001b[0m\n\u001b[0;32m----> 1\u001b[0;31m \u001b[0mimdb_db\u001b[0m\u001b[0;34m[\u001b[0m\u001b[0;36m1\u001b[0m\u001b[0;34m]\u001b[0m\u001b[0;34m\u001b[0m\u001b[0;34m\u001b[0m\u001b[0m\n\u001b[0m",
      "\u001b[0;31mIndexError\u001b[0m: list index out of range"
     ]
    }
   ],
   "source": [
    "imdb_db"
   ]
  },
  {
   "cell_type": "code",
   "execution_count": 43,
   "metadata": {},
   "outputs": [
    {
     "name": "stdout",
     "output_type": "stream",
     "text": [
      "<!DOCTYPE html>\r\n",
      "<html>\r\n",
      "    <head>\r\n",
      "        <title>A potentially dangerous Request.QueryString value was detected from the client (i=&quot;&lt;function &lt;lambda&gt; a...&quot;).</title>\r\n",
      "        <meta name=\"viewport\" content=\"width=device-width\" />\r\n",
      "        <style>\r\n",
      "         body {font-family:\"Verdana\";font-weight:normal;font-size: .7em;color:black;} \r\n",
      "         p {font-family:\"Verdana\";font-weight:normal;color:black;margin-top: -5px}\r\n",
      "         b {font-family:\"Verdana\";font-weight:bold;color:black;margin-top: -5px}\r\n",
      "         H1 { font-family:\"Verdana\";font-weight:normal;font-size:18pt;color:red }\r\n",
      "         H2 { font-family:\"Verdana\";font-weight:normal;font-size:14pt;color:maroon }\r\n",
      "         pre {font-family:\"Consolas\",\"Lucida Console\",Monospace;font-size:11pt;margin:0;padding:0.5em;line-height:14pt}\r\n",
      "         .marker {font-weight: bold; color: black;text-decoration: none;}\r\n",
      "         .version {color: gray;}\r\n",
      "         .error {margin-bottom: 10px;}\r\n",
      "         .expandable { text-decoration:underline; font-weight:bold; color:navy; cursor:hand; }\r\n",
      "         @media screen and (max-width: 639px) {\r\n",
      "          pre { width: 440px; overflow: auto; white-space: pre-wrap; word-wrap: break-word; }\r\n",
      "         }\r\n",
      "         @media screen and (max-width: 479px) {\r\n",
      "          pre { width: 280px; }\r\n",
      "         }\r\n",
      "        </style>\r\n",
      "    </head>\r\n",
      "\r\n",
      "    <body bgcolor=\"white\">\r\n",
      "\r\n",
      "            <span><H1>Server Error in '/' Application.<hr width=100% size=1 color=silver></H1>\r\n",
      "\r\n",
      "            <h2> <i>A potentially dangerous Request.QueryString value was detected from the client (i=&quot;&lt;function &lt;lambda&gt; a...&quot;).</i> </h2></span>\r\n",
      "\r\n",
      "            <font face=\"Arial, Helvetica, Geneva, SunSans-Regular, sans-serif \">\r\n",
      "\r\n",
      "            <b> Description: </b>ASP.NET has detected data in the request that is potentially dangerous because it might include HTML markup or script. The data might represent an attempt to compromise the security of your application, such as a cross-site scripting attack. If this type of input is appropriate in your application, you can include code in a web page to explicitly allow it. For more information, see http://go.microsoft.com/fwlink/?LinkID=212874.\r\n",
      "            <br><br>\r\n",
      "\r\n",
      "            <b> Exception Details: </b>System.Web.HttpRequestValidationException: A potentially dangerous Request.QueryString value was detected from the client (i=&quot;&lt;function &lt;lambda&gt; a...&quot;).<br><br>\r\n",
      "\r\n",
      "            <b>Source Error:</b> <br><br>\r\n",
      "\r\n",
      "            <table width=100% bgcolor=\"#ffffcc\">\r\n",
      "               <tr>\r\n",
      "                  <td>\r\n",
      "                      <code>\r\n",
      "\r\n",
      "An unhandled exception was generated during the execution of the current web request. Information regarding the origin and location of the exception can be identified using the exception stack trace below.</code>\r\n",
      "\r\n",
      "                  </td>\r\n",
      "               </tr>\r\n",
      "            </table>\r\n",
      "\r\n",
      "            <br>\r\n",
      "\r\n",
      "            <b>Stack Trace:</b> <br><br>\r\n",
      "\r\n",
      "            <table width=100% bgcolor=\"#ffffcc\">\r\n",
      "               <tr>\r\n",
      "                  <td>\r\n",
      "                      <code><pre>\r\n",
      "[HttpRequestValidationException (0x80004005): A potentially dangerous Request.QueryString value was detected from the client (i=&quot;&lt;function &lt;lambda&gt; a...&quot;).]\r\n",
      "   System.Web.HttpRequest.ValidateString(String value, String collectionKey, RequestValidationSource requestCollection) +11968679\r\n",
      "   System.Web.HttpRequest.ValidateHttpValueCollection(HttpValueCollection collection, RequestValidationSource requestCollection) +200\r\n",
      "   System.Web.HttpRequest.get_QueryString() +69\r\n",
      "   System.Web.Caching.OutputCacheModule.CreateOutputCachedItemKey(String path, HttpVerb verb, HttpContext context, CachedVary cachedVary) +500\r\n",
      "   System.Web.Caching.OutputCacheModule.OnEnter(Object source, EventArgs eventArgs) +391\r\n",
      "   System.Web.SyncEventExecutionStep.System.Web.HttpApplication.IExecutionStep.Execute() +139\r\n",
      "   System.Web.HttpApplication.ExecuteStepImpl(IExecutionStep step) +195\r\n",
      "   System.Web.HttpApplication.ExecuteStep(IExecutionStep step, Boolean&amp; completedSynchronously) +88\r\n",
      "</pre></code>\r\n",
      "\r\n",
      "                  </td>\r\n",
      "               </tr>\r\n",
      "            </table>\r\n",
      "\r\n",
      "            <br>\r\n",
      "\r\n",
      "            <hr width=100% size=1 color=silver>\r\n",
      "\r\n",
      "            <b>Version Information:</b>&nbsp;Microsoft .NET Framework Version:4.0.30319; ASP.NET Version:4.7.3429.0\r\n",
      "\r\n",
      "            </font>\r\n",
      "\r\n",
      "    </body>\r\n",
      "</html>\r\n",
      "<!-- \r\n",
      "[HttpRequestValidationException]: A potentially dangerous Request.QueryString value was detected from the client (i=&quot;&lt;function &lt;lambda&gt; a...&quot;).\r\n",
      "   at System.Web.HttpRequest.ValidateString(String value, String collectionKey, RequestValidationSource requestCollection)\r\n",
      "   at System.Web.HttpRequest.ValidateHttpValueCollection(HttpValueCollection collection, RequestValidationSource requestCollection)\r\n",
      "   at System.Web.HttpRequest.get_QueryString()\r\n",
      "   at System.Web.Caching.OutputCacheModule.CreateOutputCachedItemKey(String path, HttpVerb verb, HttpContext context, CachedVary cachedVary)\r\n",
      "   at System.Web.Caching.OutputCacheModule.OnEnter(Object source, EventArgs eventArgs)\r\n",
      "   at System.Web.HttpApplication.SyncEventExecutionStep.System.Web.HttpApplication.IExecutionStep.Execute()\r\n",
      "   at System.Web.HttpApplication.ExecuteStepImpl(IExecutionStep step)\r\n",
      "   at System.Web.HttpApplication.ExecuteStep(IExecutionStep step, Boolean& completedSynchronously)\r\n",
      "--><!-- \r\n",
      "This error page might contain sensitive information because ASP.NET is configured to show verbose error messages using &lt;customErrors mode=\"Off\"/&gt;. Consider using &lt;customErrors mode=\"On\"/&gt; or &lt;customErrors mode=\"RemoteOnly\"/&gt; in production environments.-->\n"
     ]
    }
   ],
   "source": [
    "# Avengers: Endgame\n",
    "import requests\n",
    "\n",
    "url = \"https://movie-database-imdb-alternative.p.rapidapi.com/\"\n",
    "\n",
    "querystring = {\"i\": lambda x: x in imdb_id ,\"r\":\"json\"}\n",
    "\n",
    "headers = {\n",
    "    'x-rapidapi-host': \"movie-database-imdb-alternative.p.rapidapi.com\",\n",
    "    'x-rapidapi-key': \"912aa21767msh00835e94c88a76dp127f61jsnacbcfb6be340\"\n",
    "    }\n",
    "\n",
    "response = requests.request(\"GET\", url, headers=headers, params=querystring)\n",
    "\n",
    "print(response.text)\n",
    "imdb_db.append(response.text)"
   ]
  },
  {
   "cell_type": "code",
   "execution_count": 38,
   "metadata": {},
   "outputs": [
    {
     "data": {
      "text/plain": [
       "['{\"Title\":\"Avengers: Endgame\",\"Year\":\"2019\",\"Rated\":\"PG-13\",\"Released\":\"26 Apr 2019\",\"Runtime\":\"181 min\",\"Genre\":\"Action, Adventure, Drama, Sci-Fi\",\"Director\":\"Anthony Russo, Joe Russo\",\"Writer\":\"Christopher Markus (screenplay by), Stephen McFeely (screenplay by), Stan Lee (based on the Marvel comics by), Jack Kirby (based on the Marvel comics by), Joe Simon (Captain America created by), Jack Kirby (Captain America created by), Steve Englehart (Star-Lord created by), Steve Gan (Star-Lord created by), Bill Mantlo (Rocket Raccoon created by), Keith Giffen (Rocket Raccoon created by), Jim Starlin (Thanos,  Gamora & Drax created by), Stan Lee (Groot created by), Larry Lieber (Groot created by), Jack Kirby (Groot created by), Steve Englehart (Mantis created by), Don Heck (Mantis created by)\",\"Actors\":\"Robert Downey Jr., Chris Evans, Mark Ruffalo, Chris Hemsworth\",\"Plot\":\"After the devastating events of Avengers: Infinity War (2018), the universe is in ruins. With the help of remaining allies, the Avengers assemble once more in order to reverse Thanos\\' actions and restore balance to the universe.\",\"Language\":\"English, Japanese, Xhosa\",\"Country\":\"USA\",\"Awards\":\"N/A\",\"Poster\":\"https://m.media-amazon.com/images/M/MV5BMTc5MDE2ODcwNV5BMl5BanBnXkFtZTgwMzI2NzQ2NzM@._V1_SX300.jpg\",\"Ratings\":[{\"Source\":\"Internet Movie Database\",\"Value\":\"8.5/10\"},{\"Source\":\"Rotten Tomatoes\",\"Value\":\"94%\"},{\"Source\":\"Metacritic\",\"Value\":\"78/100\"}],\"Metascore\":\"78\",\"imdbRating\":\"8.5\",\"imdbVotes\":\"589,503\",\"imdbID\":\"tt4154796\",\"Type\":\"movie\",\"DVD\":\"30 Jul 2019\",\"BoxOffice\":\"N/A\",\"Production\":\"Marvel Studios\",\"Website\":\"N/A\",\"Response\":\"True\"}',\n",
       " b'{\"Title\":\"Guardians of the Galaxy Vol. 2\",\"Year\":\"2017\",\"Rated\":\"PG-13\",\"Released\":\"05 May 2017\",\"Runtime\":\"136 min\",\"Genre\":\"Action, Adventure, Comedy, Sci-Fi\",\"Director\":\"James Gunn\",\"Writer\":\"James Gunn, Dan Abnett (based on the Marvel comics by), Andy Lanning (based on the Marvel comics by), Steve Englehart (Star-Lord created by), Steve Gan (Star-Lord created by), Jim Starlin (Gamora and Drax created by), Stan Lee (Groot created by), Larry Lieber (Groot created by), Jack Kirby (Groot created by), Bill Mantlo (Rocket Raccoon created by), Keith Giffen (Rocket Raccoon created by), Steve Gerber (Howard the Duck created by), Val Mayerik (Howard the Duck created by)\",\"Actors\":\"Chris Pratt, Zoe Saldana, Dave Bautista, Vin Diesel\",\"Plot\":\"The Guardians struggle to keep together as a team while dealing with their personal family issues, notably Star-Lord\\'s encounter with his father the ambitious celestial being Ego.\",\"Language\":\"English\",\"Country\":\"USA\",\"Awards\":\"Nominated for 1 Oscar. Another 12 wins & 42 nominations.\",\"Poster\":\"https://m.media-amazon.com/images/M/MV5BNjM0NTc0NzItM2FlYS00YzEwLWE0YmUtNTA2ZWIzODc2OTgxXkEyXkFqcGdeQXVyNTgwNzIyNzg@._V1_SX300.jpg\",\"Ratings\":[{\"Source\":\"Internet Movie Database\",\"Value\":\"7.6/10\"},{\"Source\":\"Rotten Tomatoes\",\"Value\":\"84%\"},{\"Source\":\"Metacritic\",\"Value\":\"67/100\"}],\"Metascore\":\"67\",\"imdbRating\":\"7.6\",\"imdbVotes\":\"507,090\",\"imdbID\":\"tt3896198\",\"Type\":\"movie\",\"DVD\":\"22 Aug 2017\",\"BoxOffice\":\"$389,804,217\",\"Production\":\"Walt Disney Pictures\",\"Website\":\"N/A\",\"Response\":\"True\"}',\n",
       " b'{\"Title\":\"Guardians of the Galaxy Vol. 2\",\"Year\":\"2017\",\"Rated\":\"PG-13\",\"Released\":\"05 May 2017\",\"Runtime\":\"136 min\",\"Genre\":\"Action, Adventure, Comedy, Sci-Fi\",\"Director\":\"James Gunn\",\"Writer\":\"James Gunn, Dan Abnett (based on the Marvel comics by), Andy Lanning (based on the Marvel comics by), Steve Englehart (Star-Lord created by), Steve Gan (Star-Lord created by), Jim Starlin (Gamora and Drax created by), Stan Lee (Groot created by), Larry Lieber (Groot created by), Jack Kirby (Groot created by), Bill Mantlo (Rocket Raccoon created by), Keith Giffen (Rocket Raccoon created by), Steve Gerber (Howard the Duck created by), Val Mayerik (Howard the Duck created by)\",\"Actors\":\"Chris Pratt, Zoe Saldana, Dave Bautista, Vin Diesel\",\"Plot\":\"The Guardians struggle to keep together as a team while dealing with their personal family issues, notably Star-Lord\\'s encounter with his father the ambitious celestial being Ego.\",\"Language\":\"English\",\"Country\":\"USA\",\"Awards\":\"Nominated for 1 Oscar. Another 12 wins & 42 nominations.\",\"Poster\":\"https://m.media-amazon.com/images/M/MV5BNjM0NTc0NzItM2FlYS00YzEwLWE0YmUtNTA2ZWIzODc2OTgxXkEyXkFqcGdeQXVyNTgwNzIyNzg@._V1_SX300.jpg\",\"Ratings\":[{\"Source\":\"Internet Movie Database\",\"Value\":\"7.6/10\"},{\"Source\":\"Rotten Tomatoes\",\"Value\":\"84%\"},{\"Source\":\"Metacritic\",\"Value\":\"67/100\"}],\"Metascore\":\"67\",\"imdbRating\":\"7.6\",\"imdbVotes\":\"507,090\",\"imdbID\":\"tt3896198\",\"Type\":\"movie\",\"DVD\":\"22 Aug 2017\",\"BoxOffice\":\"$389,804,217\",\"Production\":\"Walt Disney Pictures\",\"Website\":\"N/A\",\"Response\":\"True\"}',\n",
       " '{\"Title\":\"Joker\",\"Year\":\"2019\",\"Rated\":\"R\",\"Released\":\"04 Oct 2019\",\"Runtime\":\"122 min\",\"Genre\":\"Crime, Drama, Thriller\",\"Director\":\"Todd Phillips\",\"Writer\":\"Todd Phillips, Scott Silver, Bob Kane (based on characters created by), Bill Finger (based on characters created by), Jerry Robinson (based on characters created by)\",\"Actors\":\"Joaquin Phoenix, Robert De Niro, Zazie Beetz, Frances Conroy\",\"Plot\":\"In Gotham City, mentally-troubled comedian Arthur Fleck is disregarded and mistreated by society. He then embarks on a downward spiral of revolution and bloody crime. This path brings him face-to-face with his alter-ego: \\\\\"The Joker\\\\\".\",\"Language\":\"English\",\"Country\":\"USA, Canada\",\"Awards\":\"N/A\",\"Poster\":\"https://m.media-amazon.com/images/M/MV5BNGVjNWI4ZGUtNzE0MS00YTJmLWE0ZDctN2ZiYTk2YmI3NTYyXkEyXkFqcGdeQXVyMTkxNjUyNQ@@._V1_SX300.jpg\",\"Ratings\":[{\"Source\":\"Internet Movie Database\",\"Value\":\"8.9/10\"},{\"Source\":\"Rotten Tomatoes\",\"Value\":\"68%\"},{\"Source\":\"Metacritic\",\"Value\":\"59/100\"}],\"Metascore\":\"59\",\"imdbRating\":\"8.9\",\"imdbVotes\":\"360,218\",\"imdbID\":\"tt7286456\",\"Type\":\"movie\",\"DVD\":\"N/A\",\"BoxOffice\":\"N/A\",\"Production\":\"Warner Bros. Pictures\",\"Website\":\"N/A\",\"Response\":\"True\"}',\n",
       " <Response [200]>,\n",
       " b'{\"Title\":\"The Irishman\",\"Year\":\"2019\",\"Rated\":\"R\",\"Released\":\"27 Nov 2019\",\"Runtime\":\"209 min\",\"Genre\":\"Biography, Crime, Drama, History, Thriller\",\"Director\":\"Martin Scorsese\",\"Writer\":\"Charles Brandt (book), Steven Zaillian (screenplay)\",\"Actors\":\"Robert De Niro, Jesse Plemons, Anna Paquin, Al Pacino\",\"Plot\":\"A mob hitman recalls his possible involvement with the slaying of Jimmy Hoffa.\",\"Language\":\"English\",\"Country\":\"USA\",\"Awards\":\"N/A\",\"Poster\":\"https://m.media-amazon.com/images/M/MV5BMGUyM2ZiZmUtMWY0OC00NTQ4LThkOGUtNjY2NjkzMDJiMWMwXkEyXkFqcGdeQXVyMzY0MTE3NzU@._V1_SX300.jpg\",\"Ratings\":[{\"Source\":\"Internet Movie Database\",\"Value\":\"8.6/10\"},{\"Source\":\"Rotten Tomatoes\",\"Value\":\"100%\"},{\"Source\":\"Metacritic\",\"Value\":\"94/100\"}],\"Metascore\":\"94\",\"imdbRating\":\"8.6\",\"imdbVotes\":\"2,745\",\"imdbID\":\"tt1302006\",\"Type\":\"movie\",\"DVD\":\"27 Nov 2019\",\"BoxOffice\":\"N/A\",\"Production\":\"Netflix\",\"Website\":\"N/A\",\"Response\":\"True\"}']"
      ]
     },
     "execution_count": 38,
     "metadata": {},
     "output_type": "execute_result"
    }
   ],
   "source": [
    "imdb_db"
   ]
  },
  {
   "cell_type": "code",
   "execution_count": 32,
   "metadata": {},
   "outputs": [
    {
     "name": "stdout",
     "output_type": "stream",
     "text": [
      "{\"Title\":\"Joker\",\"Year\":\"2019\",\"Rated\":\"R\",\"Released\":\"04 Oct 2019\",\"Runtime\":\"122 min\",\"Genre\":\"Crime, Drama, Thriller\",\"Director\":\"Todd Phillips\",\"Writer\":\"Todd Phillips, Scott Silver, Bob Kane (based on characters created by), Bill Finger (based on characters created by), Jerry Robinson (based on characters created by)\",\"Actors\":\"Joaquin Phoenix, Robert De Niro, Zazie Beetz, Frances Conroy\",\"Plot\":\"In Gotham City, mentally-troubled comedian Arthur Fleck is disregarded and mistreated by society. He then embarks on a downward spiral of revolution and bloody crime. This path brings him face-to-face with his alter-ego: \\\"The Joker\\\".\",\"Language\":\"English\",\"Country\":\"USA, Canada\",\"Awards\":\"N/A\",\"Poster\":\"https://m.media-amazon.com/images/M/MV5BNGVjNWI4ZGUtNzE0MS00YTJmLWE0ZDctN2ZiYTk2YmI3NTYyXkEyXkFqcGdeQXVyMTkxNjUyNQ@@._V1_SX300.jpg\",\"Ratings\":[{\"Source\":\"Internet Movie Database\",\"Value\":\"8.9/10\"},{\"Source\":\"Rotten Tomatoes\",\"Value\":\"68%\"},{\"Source\":\"Metacritic\",\"Value\":\"59/100\"}],\"Metascore\":\"59\",\"imdbRating\":\"8.9\",\"imdbVotes\":\"360,218\",\"imdbID\":\"tt7286456\",\"Type\":\"movie\",\"DVD\":\"N/A\",\"BoxOffice\":\"N/A\",\"Production\":\"Warner Bros. Pictures\",\"Website\":\"N/A\",\"Response\":\"True\"}\n"
     ]
    }
   ],
   "source": [
    "#joker\n",
    "term = 'movie'\n",
    "\n",
    "\n",
    "SEARCH_LIMIT = 50\n",
    "url = \"https://movie-database-imdb-alternative.p.rapidapi.com/\"\n",
    "\n",
    "querystring = {\"i\":\"tt7286456\",\"r\":\"json\"}\n",
    "\n",
    "headers = {\n",
    "    'x-rapidapi-host': \"movie-database-imdb-alternative.p.rapidapi.com\",\n",
    "    'x-rapidapi-key': \"912aa21767msh00835e94c88a76dp127f61jsnacbcfb6be340\"\n",
    "    }\n",
    "\n",
    "response = requests.request(\"GET\", url, headers=headers, params=querystring)\n",
    "\n",
    "print(response.text)\n",
    "imdb_db.append(response.text)"
   ]
  },
  {
   "cell_type": "code",
   "execution_count": 19,
   "metadata": {},
   "outputs": [
    {
     "ename": "NameError",
     "evalue": "name 'imdb_db' is not defined",
     "output_type": "error",
     "traceback": [
      "\u001b[0;31m---------------------------------------------------------------------------\u001b[0m",
      "\u001b[0;31mNameError\u001b[0m                                 Traceback (most recent call last)",
      "\u001b[0;32m<ipython-input-19-e75c9a159a50>\u001b[0m in \u001b[0;36m<module>\u001b[0;34m\u001b[0m\n\u001b[0;32m----> 1\u001b[0;31m \u001b[0mimdb_db\u001b[0m\u001b[0;34m[\u001b[0m\u001b[0;36m0\u001b[0m\u001b[0;34m]\u001b[0m\u001b[0;34m\u001b[0m\u001b[0;34m\u001b[0m\u001b[0m\n\u001b[0m",
      "\u001b[0;31mNameError\u001b[0m: name 'imdb_db' is not defined"
     ]
    }
   ],
   "source": []
  },
  {
   "cell_type": "code",
   "execution_count": 31,
   "metadata": {
    "scrolled": true
   },
   "outputs": [
    {
     "name": "stdout",
     "output_type": "stream",
     "text": [
      "b'{\"Title\":\"Guardians of the Galaxy Vol. 2\",\"Year\":\"2017\",\"Rated\":\"PG-13\",\"Released\":\"05 May 2017\",\"Runtime\":\"136 min\",\"Genre\":\"Action, Adventure, Comedy, Sci-Fi\",\"Director\":\"James Gunn\",\"Writer\":\"James Gunn, Dan Abnett (based on the Marvel comics by), Andy Lanning (based on the Marvel comics by), Steve Englehart (Star-Lord created by), Steve Gan (Star-Lord created by), Jim Starlin (Gamora and Drax created by), Stan Lee (Groot created by), Larry Lieber (Groot created by), Jack Kirby (Groot created by), Bill Mantlo (Rocket Raccoon created by), Keith Giffen (Rocket Raccoon created by), Steve Gerber (Howard the Duck created by), Val Mayerik (Howard the Duck created by)\",\"Actors\":\"Chris Pratt, Zoe Saldana, Dave Bautista, Vin Diesel\",\"Plot\":\"The Guardians struggle to keep together as a team while dealing with their personal family issues, notably Star-Lord\\'s encounter with his father the ambitious celestial being Ego.\",\"Language\":\"English\",\"Country\":\"USA\",\"Awards\":\"Nominated for 1 Oscar. Another 12 wins & 42 nominations.\",\"Poster\":\"https://m.media-amazon.com/images/M/MV5BNjM0NTc0NzItM2FlYS00YzEwLWE0YmUtNTA2ZWIzODc2OTgxXkEyXkFqcGdeQXVyNTgwNzIyNzg@._V1_SX300.jpg\",\"Ratings\":[{\"Source\":\"Internet Movie Database\",\"Value\":\"7.6/10\"},{\"Source\":\"Rotten Tomatoes\",\"Value\":\"84%\"},{\"Source\":\"Metacritic\",\"Value\":\"67/100\"}],\"Metascore\":\"67\",\"imdbRating\":\"7.6\",\"imdbVotes\":\"507,090\",\"imdbID\":\"tt3896198\",\"Type\":\"movie\",\"DVD\":\"22 Aug 2017\",\"BoxOffice\":\"$389,804,217\",\"Production\":\"Walt Disney Pictures\",\"Website\":\"N/A\",\"Response\":\"True\"}'\n"
     ]
    }
   ],
   "source": [
    "# Guardians of the Galaxy Vol. 2\n",
    "print(page.content)\n",
    "imdb_db.append(page.content)"
   ]
  },
  {
   "cell_type": "code",
   "execution_count": 33,
   "metadata": {},
   "outputs": [
    {
     "data": {
      "text/plain": [
       "['{\"Title\":\"Avengers: Endgame\",\"Year\":\"2019\",\"Rated\":\"PG-13\",\"Released\":\"26 Apr 2019\",\"Runtime\":\"181 min\",\"Genre\":\"Action, Adventure, Drama, Sci-Fi\",\"Director\":\"Anthony Russo, Joe Russo\",\"Writer\":\"Christopher Markus (screenplay by), Stephen McFeely (screenplay by), Stan Lee (based on the Marvel comics by), Jack Kirby (based on the Marvel comics by), Joe Simon (Captain America created by), Jack Kirby (Captain America created by), Steve Englehart (Star-Lord created by), Steve Gan (Star-Lord created by), Bill Mantlo (Rocket Raccoon created by), Keith Giffen (Rocket Raccoon created by), Jim Starlin (Thanos,  Gamora & Drax created by), Stan Lee (Groot created by), Larry Lieber (Groot created by), Jack Kirby (Groot created by), Steve Englehart (Mantis created by), Don Heck (Mantis created by)\",\"Actors\":\"Robert Downey Jr., Chris Evans, Mark Ruffalo, Chris Hemsworth\",\"Plot\":\"After the devastating events of Avengers: Infinity War (2018), the universe is in ruins. With the help of remaining allies, the Avengers assemble once more in order to reverse Thanos\\' actions and restore balance to the universe.\",\"Language\":\"English, Japanese, Xhosa\",\"Country\":\"USA\",\"Awards\":\"N/A\",\"Poster\":\"https://m.media-amazon.com/images/M/MV5BMTc5MDE2ODcwNV5BMl5BanBnXkFtZTgwMzI2NzQ2NzM@._V1_SX300.jpg\",\"Ratings\":[{\"Source\":\"Internet Movie Database\",\"Value\":\"8.5/10\"},{\"Source\":\"Rotten Tomatoes\",\"Value\":\"94%\"},{\"Source\":\"Metacritic\",\"Value\":\"78/100\"}],\"Metascore\":\"78\",\"imdbRating\":\"8.5\",\"imdbVotes\":\"589,503\",\"imdbID\":\"tt4154796\",\"Type\":\"movie\",\"DVD\":\"30 Jul 2019\",\"BoxOffice\":\"N/A\",\"Production\":\"Marvel Studios\",\"Website\":\"N/A\",\"Response\":\"True\"}',\n",
       " b'{\"Title\":\"Guardians of the Galaxy Vol. 2\",\"Year\":\"2017\",\"Rated\":\"PG-13\",\"Released\":\"05 May 2017\",\"Runtime\":\"136 min\",\"Genre\":\"Action, Adventure, Comedy, Sci-Fi\",\"Director\":\"James Gunn\",\"Writer\":\"James Gunn, Dan Abnett (based on the Marvel comics by), Andy Lanning (based on the Marvel comics by), Steve Englehart (Star-Lord created by), Steve Gan (Star-Lord created by), Jim Starlin (Gamora and Drax created by), Stan Lee (Groot created by), Larry Lieber (Groot created by), Jack Kirby (Groot created by), Bill Mantlo (Rocket Raccoon created by), Keith Giffen (Rocket Raccoon created by), Steve Gerber (Howard the Duck created by), Val Mayerik (Howard the Duck created by)\",\"Actors\":\"Chris Pratt, Zoe Saldana, Dave Bautista, Vin Diesel\",\"Plot\":\"The Guardians struggle to keep together as a team while dealing with their personal family issues, notably Star-Lord\\'s encounter with his father the ambitious celestial being Ego.\",\"Language\":\"English\",\"Country\":\"USA\",\"Awards\":\"Nominated for 1 Oscar. Another 12 wins & 42 nominations.\",\"Poster\":\"https://m.media-amazon.com/images/M/MV5BNjM0NTc0NzItM2FlYS00YzEwLWE0YmUtNTA2ZWIzODc2OTgxXkEyXkFqcGdeQXVyNTgwNzIyNzg@._V1_SX300.jpg\",\"Ratings\":[{\"Source\":\"Internet Movie Database\",\"Value\":\"7.6/10\"},{\"Source\":\"Rotten Tomatoes\",\"Value\":\"84%\"},{\"Source\":\"Metacritic\",\"Value\":\"67/100\"}],\"Metascore\":\"67\",\"imdbRating\":\"7.6\",\"imdbVotes\":\"507,090\",\"imdbID\":\"tt3896198\",\"Type\":\"movie\",\"DVD\":\"22 Aug 2017\",\"BoxOffice\":\"$389,804,217\",\"Production\":\"Walt Disney Pictures\",\"Website\":\"N/A\",\"Response\":\"True\"}',\n",
       " b'{\"Title\":\"Guardians of the Galaxy Vol. 2\",\"Year\":\"2017\",\"Rated\":\"PG-13\",\"Released\":\"05 May 2017\",\"Runtime\":\"136 min\",\"Genre\":\"Action, Adventure, Comedy, Sci-Fi\",\"Director\":\"James Gunn\",\"Writer\":\"James Gunn, Dan Abnett (based on the Marvel comics by), Andy Lanning (based on the Marvel comics by), Steve Englehart (Star-Lord created by), Steve Gan (Star-Lord created by), Jim Starlin (Gamora and Drax created by), Stan Lee (Groot created by), Larry Lieber (Groot created by), Jack Kirby (Groot created by), Bill Mantlo (Rocket Raccoon created by), Keith Giffen (Rocket Raccoon created by), Steve Gerber (Howard the Duck created by), Val Mayerik (Howard the Duck created by)\",\"Actors\":\"Chris Pratt, Zoe Saldana, Dave Bautista, Vin Diesel\",\"Plot\":\"The Guardians struggle to keep together as a team while dealing with their personal family issues, notably Star-Lord\\'s encounter with his father the ambitious celestial being Ego.\",\"Language\":\"English\",\"Country\":\"USA\",\"Awards\":\"Nominated for 1 Oscar. Another 12 wins & 42 nominations.\",\"Poster\":\"https://m.media-amazon.com/images/M/MV5BNjM0NTc0NzItM2FlYS00YzEwLWE0YmUtNTA2ZWIzODc2OTgxXkEyXkFqcGdeQXVyNTgwNzIyNzg@._V1_SX300.jpg\",\"Ratings\":[{\"Source\":\"Internet Movie Database\",\"Value\":\"7.6/10\"},{\"Source\":\"Rotten Tomatoes\",\"Value\":\"84%\"},{\"Source\":\"Metacritic\",\"Value\":\"67/100\"}],\"Metascore\":\"67\",\"imdbRating\":\"7.6\",\"imdbVotes\":\"507,090\",\"imdbID\":\"tt3896198\",\"Type\":\"movie\",\"DVD\":\"22 Aug 2017\",\"BoxOffice\":\"$389,804,217\",\"Production\":\"Walt Disney Pictures\",\"Website\":\"N/A\",\"Response\":\"True\"}',\n",
       " '{\"Title\":\"Joker\",\"Year\":\"2019\",\"Rated\":\"R\",\"Released\":\"04 Oct 2019\",\"Runtime\":\"122 min\",\"Genre\":\"Crime, Drama, Thriller\",\"Director\":\"Todd Phillips\",\"Writer\":\"Todd Phillips, Scott Silver, Bob Kane (based on characters created by), Bill Finger (based on characters created by), Jerry Robinson (based on characters created by)\",\"Actors\":\"Joaquin Phoenix, Robert De Niro, Zazie Beetz, Frances Conroy\",\"Plot\":\"In Gotham City, mentally-troubled comedian Arthur Fleck is disregarded and mistreated by society. He then embarks on a downward spiral of revolution and bloody crime. This path brings him face-to-face with his alter-ego: \\\\\"The Joker\\\\\".\",\"Language\":\"English\",\"Country\":\"USA, Canada\",\"Awards\":\"N/A\",\"Poster\":\"https://m.media-amazon.com/images/M/MV5BNGVjNWI4ZGUtNzE0MS00YTJmLWE0ZDctN2ZiYTk2YmI3NTYyXkEyXkFqcGdeQXVyMTkxNjUyNQ@@._V1_SX300.jpg\",\"Ratings\":[{\"Source\":\"Internet Movie Database\",\"Value\":\"8.9/10\"},{\"Source\":\"Rotten Tomatoes\",\"Value\":\"68%\"},{\"Source\":\"Metacritic\",\"Value\":\"59/100\"}],\"Metascore\":\"59\",\"imdbRating\":\"8.9\",\"imdbVotes\":\"360,218\",\"imdbID\":\"tt7286456\",\"Type\":\"movie\",\"DVD\":\"N/A\",\"BoxOffice\":\"N/A\",\"Production\":\"Warner Bros. Pictures\",\"Website\":\"N/A\",\"Response\":\"True\"}']"
      ]
     },
     "execution_count": 33,
     "metadata": {},
     "output_type": "execute_result"
    }
   ],
   "source": [
    "imdb_db\n"
   ]
  },
  {
   "cell_type": "code",
   "execution_count": 62,
   "metadata": {},
   "outputs": [
    {
     "data": {
      "text/plain": [
       "{\"Title\":\"The Irishman\",\"Year\":\"2019\",\"Rated\":\"R\",\"Released\":\"27 Nov 2019\",\"Runtime\":\"209 min\",\"Genre\":\"Biography, Crime, Drama, History, Thriller\",\"Director\":\"Martin Scorsese\",\"Writer\":\"Charles Brandt (book), Steven Zaillian (screenplay)\",\"Actors\":\"Robert De Niro, Jesse Plemons, Anna Paquin, Al Pacino\",\"Plot\":\"A mob hitman recalls his possible involvement with the slaying of Jimmy Hoffa.\",\"Language\":\"English\",\"Country\":\"USA\",\"Awards\":\"N/A\",\"Poster\":\"https://m.media-amazon.com/images/M/MV5BMGUyM2ZiZmUtMWY0OC00NTQ4LThkOGUtNjY2NjkzMDJiMWMwXkEyXkFqcGdeQXVyMzY0MTE3NzU@._V1_SX300.jpg\",\"Ratings\":[{\"Source\":\"Internet Movie Database\",\"Value\":\"8.6/10\"},{\"Source\":\"Rotten Tomatoes\",\"Value\":\"100%\"},{\"Source\":\"Metacritic\",\"Value\":\"94/100\"}],\"Metascore\":\"94\",\"imdbRating\":\"8.6\",\"imdbVotes\":\"2,745\",\"imdbID\":\"tt1302006\",\"Type\":\"movie\",\"DVD\":\"27 Nov 2019\",\"BoxOffice\":\"N/A\",\"Production\":\"Netflix\",\"Website\":\"N/A\",\"Response\":\"True\"}"
      ]
     },
     "execution_count": 62,
     "metadata": {},
     "output_type": "execute_result"
    }
   ],
   "source": [
    "from bs4 import BeautifulSoup\n",
    "soup = BeautifulSoup(page.content, 'html.parser')\n",
    "soup"
   ]
  },
  {
   "cell_type": "code",
   "execution_count": 63,
   "metadata": {},
   "outputs": [
    {
     "name": "stdout",
     "output_type": "stream",
     "text": [
      "{\"Title\":\"The Irishman\",\"Year\":\"2019\",\"Rated\":\"R\",\"Released\":\"27 Nov 2019\",\"Runtime\":\"209 min\",\"Genre\":\"Biography, Crime, Drama, History, Thriller\",\"Director\":\"Martin Scorsese\",\"Writer\":\"Charles Brandt (book), Steven Zaillian (screenplay)\",\"Actors\":\"Robert De Niro, Jesse Plemons, Anna Paquin, Al Pacino\",\"Plot\":\"A mob hitman recalls his possible involvement with the slaying of Jimmy Hoffa.\",\"Language\":\"English\",\"Country\":\"USA\",\"Awards\":\"N/A\",\"Poster\":\"https://m.media-amazon.com/images/M/MV5BMGUyM2ZiZmUtMWY0OC00NTQ4LThkOGUtNjY2NjkzMDJiMWMwXkEyXkFqcGdeQXVyMzY0MTE3NzU@._V1_SX300.jpg\",\"Ratings\":[{\"Source\":\"Internet Movie Database\",\"Value\":\"8.6/10\"},{\"Source\":\"Rotten Tomatoes\",\"Value\":\"100%\"},{\"Source\":\"Metacritic\",\"Value\":\"94/100\"}],\"Metascore\":\"94\",\"imdbRating\":\"8.6\",\"imdbVotes\":\"2,745\",\"imdbID\":\"tt1302006\",\"Type\":\"movie\",\"DVD\":\"27 Nov 2019\",\"BoxOffice\":\"N/A\",\"Production\":\"Netflix\",\"Website\":\"N/A\",\"Response\":\"True\"}\n",
      "\n"
     ]
    }
   ],
   "source": [
    "print(soup.prettify())"
   ]
  },
  {
   "cell_type": "code",
   "execution_count": 64,
   "metadata": {},
   "outputs": [
    {
     "data": {
      "text/plain": [
       "['{\"Title\":\"The Irishman\",\"Year\":\"2019\",\"Rated\":\"R\",\"Released\":\"27 Nov 2019\",\"Runtime\":\"209 min\",\"Genre\":\"Biography, Crime, Drama, History, Thriller\",\"Director\":\"Martin Scorsese\",\"Writer\":\"Charles Brandt (book), Steven Zaillian (screenplay)\",\"Actors\":\"Robert De Niro, Jesse Plemons, Anna Paquin, Al Pacino\",\"Plot\":\"A mob hitman recalls his possible involvement with the slaying of Jimmy Hoffa.\",\"Language\":\"English\",\"Country\":\"USA\",\"Awards\":\"N/A\",\"Poster\":\"https://m.media-amazon.com/images/M/MV5BMGUyM2ZiZmUtMWY0OC00NTQ4LThkOGUtNjY2NjkzMDJiMWMwXkEyXkFqcGdeQXVyMzY0MTE3NzU@._V1_SX300.jpg\",\"Ratings\":[{\"Source\":\"Internet Movie Database\",\"Value\":\"8.6/10\"},{\"Source\":\"Rotten Tomatoes\",\"Value\":\"100%\"},{\"Source\":\"Metacritic\",\"Value\":\"94/100\"}],\"Metascore\":\"94\",\"imdbRating\":\"8.6\",\"imdbVotes\":\"2,745\",\"imdbID\":\"tt1302006\",\"Type\":\"movie\",\"DVD\":\"27 Nov 2019\",\"BoxOffice\":\"N/A\",\"Production\":\"Netflix\",\"Website\":\"N/A\",\"Response\":\"True\"}']"
      ]
     },
     "execution_count": 64,
     "metadata": {},
     "output_type": "execute_result"
    }
   ],
   "source": [
    "list(soup.children)"
   ]
  },
  {
   "cell_type": "code",
   "execution_count": 65,
   "metadata": {},
   "outputs": [
    {
     "data": {
      "text/plain": [
       "[bs4.element.NavigableString]"
      ]
     },
     "execution_count": 65,
     "metadata": {},
     "output_type": "execute_result"
    }
   ],
   "source": [
    "[type(item) for item in list(soup.children)]\n"
   ]
  },
  {
   "cell_type": "code",
   "execution_count": null,
   "metadata": {},
   "outputs": [],
   "source": []
  },
  {
   "cell_type": "code",
   "execution_count": null,
   "metadata": {},
   "outputs": [],
   "source": []
  },
  {
   "cell_type": "code",
   "execution_count": null,
   "metadata": {},
   "outputs": [],
   "source": []
  }
 ],
 "metadata": {
  "kernelspec": {
   "display_name": "Python 3",
   "language": "python",
   "name": "python3"
  },
  "language_info": {
   "codemirror_mode": {
    "name": "ipython",
    "version": 3
   },
   "file_extension": ".py",
   "mimetype": "text/x-python",
   "name": "python",
   "nbconvert_exporter": "python",
   "pygments_lexer": "ipython3",
   "version": "3.7.3"
  }
 },
 "nbformat": 4,
 "nbformat_minor": 2
}
