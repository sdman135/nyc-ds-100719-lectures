{
 "cells": [
  {
   "cell_type": "markdown",
   "metadata": {},
   "source": [
    "# Combining Python, SQL DBs and AWS"
   ]
  },
  {
   "cell_type": "markdown",
   "metadata": {},
   "source": [
    "## Aim: Connect to your DB on AWS through python, and execute queries.  \n"
   ]
  },
  {
   "cell_type": "markdown",
   "metadata": {},
   "source": [
    "# Using Python with MYSQL DB"
   ]
  },
  {
   "cell_type": "code",
   "execution_count": 1,
   "metadata": {},
   "outputs": [
    {
     "name": "stdout",
     "output_type": "stream",
     "text": [
      "Requirement already satisfied: mysql-connector-python in /anaconda3/lib/python3.7/site-packages (8.0.18)\n",
      "Requirement already satisfied: protobuf>=3.0.0 in /anaconda3/lib/python3.7/site-packages (from mysql-connector-python) (3.10.0)\n",
      "Requirement already satisfied: setuptools in /anaconda3/lib/python3.7/site-packages (from protobuf>=3.0.0->mysql-connector-python) (41.0.1)\n",
      "Requirement already satisfied: six>=1.9 in /anaconda3/lib/python3.7/site-packages (from protobuf>=3.0.0->mysql-connector-python) (1.12.0)\n"
     ]
    }
   ],
   "source": [
    "# make sure we have the package installed\n",
    "!pip install mysql-connector-python"
   ]
  },
  {
   "cell_type": "code",
   "execution_count": 1,
   "metadata": {},
   "outputs": [],
   "source": [
    "## importing 'mysql.connector' \n",
    "import mysql.connector "
   ]
  },
  {
   "cell_type": "code",
   "execution_count": 2,
   "metadata": {},
   "outputs": [
    {
     "ename": "DatabaseError",
     "evalue": "2003 (HY000): Can't connect to MySQL server on 'localhost' (61)",
     "output_type": "error",
     "traceback": [
      "\u001b[0;31m---------------------------------------------------------------------------\u001b[0m",
      "\u001b[0;31mMySQLInterfaceError\u001b[0m                       Traceback (most recent call last)",
      "\u001b[0;32m//anaconda3/lib/python3.7/site-packages/mysql/connector/connection_cext.py\u001b[0m in \u001b[0;36m_open_connection\u001b[0;34m(self)\u001b[0m\n\u001b[1;32m    199\u001b[0m         \u001b[0;32mtry\u001b[0m\u001b[0;34m:\u001b[0m\u001b[0;34m\u001b[0m\u001b[0;34m\u001b[0m\u001b[0m\n\u001b[0;32m--> 200\u001b[0;31m             \u001b[0mself\u001b[0m\u001b[0;34m.\u001b[0m\u001b[0m_cmysql\u001b[0m\u001b[0;34m.\u001b[0m\u001b[0mconnect\u001b[0m\u001b[0;34m(\u001b[0m\u001b[0;34m**\u001b[0m\u001b[0mcnx_kwargs\u001b[0m\u001b[0;34m)\u001b[0m\u001b[0;34m\u001b[0m\u001b[0;34m\u001b[0m\u001b[0m\n\u001b[0m\u001b[1;32m    201\u001b[0m         \u001b[0;32mexcept\u001b[0m \u001b[0mMySQLInterfaceError\u001b[0m \u001b[0;32mas\u001b[0m \u001b[0mexc\u001b[0m\u001b[0;34m:\u001b[0m\u001b[0;34m\u001b[0m\u001b[0;34m\u001b[0m\u001b[0m\n",
      "\u001b[0;31mMySQLInterfaceError\u001b[0m: Can't connect to MySQL server on 'localhost' (61)",
      "\nDuring handling of the above exception, another exception occurred:\n",
      "\u001b[0;31mDatabaseError\u001b[0m                             Traceback (most recent call last)",
      "\u001b[0;32m<ipython-input-2-02fa11a348f3>\u001b[0m in \u001b[0;36m<module>\u001b[0;34m\u001b[0m\n\u001b[1;32m     11\u001b[0m     \u001b[0mhost\u001b[0m \u001b[0;34m=\u001b[0m \u001b[0;34m\"localhost\"\u001b[0m\u001b[0;34m,\u001b[0m\u001b[0;34m\u001b[0m\u001b[0;34m\u001b[0m\u001b[0m\n\u001b[1;32m     12\u001b[0m     \u001b[0muser\u001b[0m \u001b[0;34m=\u001b[0m \u001b[0;34m\"root\"\u001b[0m\u001b[0;34m,\u001b[0m\u001b[0;34m\u001b[0m\u001b[0;34m\u001b[0m\u001b[0m\n\u001b[0;32m---> 13\u001b[0;31m     \u001b[0mpasswd\u001b[0m \u001b[0;34m=\u001b[0m \u001b[0;34m\"dbms\"\u001b[0m\u001b[0;34m\u001b[0m\u001b[0;34m\u001b[0m\u001b[0m\n\u001b[0m\u001b[1;32m     14\u001b[0m )\n",
      "\u001b[0;32m//anaconda3/lib/python3.7/site-packages/mysql/connector/__init__.py\u001b[0m in \u001b[0;36mconnect\u001b[0;34m(*args, **kwargs)\u001b[0m\n\u001b[1;32m    174\u001b[0m \u001b[0;34m\u001b[0m\u001b[0m\n\u001b[1;32m    175\u001b[0m     \u001b[0;32mif\u001b[0m \u001b[0mHAVE_CEXT\u001b[0m \u001b[0;32mand\u001b[0m \u001b[0;32mnot\u001b[0m \u001b[0muse_pure\u001b[0m\u001b[0;34m:\u001b[0m\u001b[0;34m\u001b[0m\u001b[0;34m\u001b[0m\u001b[0m\n\u001b[0;32m--> 176\u001b[0;31m         \u001b[0;32mreturn\u001b[0m \u001b[0mCMySQLConnection\u001b[0m\u001b[0;34m(\u001b[0m\u001b[0;34m*\u001b[0m\u001b[0margs\u001b[0m\u001b[0;34m,\u001b[0m \u001b[0;34m**\u001b[0m\u001b[0mkwargs\u001b[0m\u001b[0;34m)\u001b[0m\u001b[0;34m\u001b[0m\u001b[0;34m\u001b[0m\u001b[0m\n\u001b[0m\u001b[1;32m    177\u001b[0m     \u001b[0;32mreturn\u001b[0m \u001b[0mMySQLConnection\u001b[0m\u001b[0;34m(\u001b[0m\u001b[0;34m*\u001b[0m\u001b[0margs\u001b[0m\u001b[0;34m,\u001b[0m \u001b[0;34m**\u001b[0m\u001b[0mkwargs\u001b[0m\u001b[0;34m)\u001b[0m\u001b[0;34m\u001b[0m\u001b[0;34m\u001b[0m\u001b[0m\n\u001b[1;32m    178\u001b[0m \u001b[0mConnect\u001b[0m \u001b[0;34m=\u001b[0m \u001b[0mconnect\u001b[0m  \u001b[0;31m# pylint: disable=C0103\u001b[0m\u001b[0;34m\u001b[0m\u001b[0;34m\u001b[0m\u001b[0m\n",
      "\u001b[0;32m//anaconda3/lib/python3.7/site-packages/mysql/connector/connection_cext.py\u001b[0m in \u001b[0;36m__init__\u001b[0;34m(self, **kwargs)\u001b[0m\n\u001b[1;32m     78\u001b[0m \u001b[0;34m\u001b[0m\u001b[0m\n\u001b[1;32m     79\u001b[0m         \u001b[0;32mif\u001b[0m \u001b[0mkwargs\u001b[0m\u001b[0;34m:\u001b[0m\u001b[0;34m\u001b[0m\u001b[0;34m\u001b[0m\u001b[0m\n\u001b[0;32m---> 80\u001b[0;31m             \u001b[0mself\u001b[0m\u001b[0;34m.\u001b[0m\u001b[0mconnect\u001b[0m\u001b[0;34m(\u001b[0m\u001b[0;34m**\u001b[0m\u001b[0mkwargs\u001b[0m\u001b[0;34m)\u001b[0m\u001b[0;34m\u001b[0m\u001b[0;34m\u001b[0m\u001b[0m\n\u001b[0m\u001b[1;32m     81\u001b[0m \u001b[0;34m\u001b[0m\u001b[0m\n\u001b[1;32m     82\u001b[0m     \u001b[0;32mdef\u001b[0m \u001b[0m_add_default_conn_attrs\u001b[0m\u001b[0;34m(\u001b[0m\u001b[0mself\u001b[0m\u001b[0;34m)\u001b[0m\u001b[0;34m:\u001b[0m\u001b[0;34m\u001b[0m\u001b[0;34m\u001b[0m\u001b[0m\n",
      "\u001b[0;32m//anaconda3/lib/python3.7/site-packages/mysql/connector/abstracts.py\u001b[0m in \u001b[0;36mconnect\u001b[0;34m(self, **kwargs)\u001b[0m\n\u001b[1;32m    779\u001b[0m \u001b[0;34m\u001b[0m\u001b[0m\n\u001b[1;32m    780\u001b[0m         \u001b[0mself\u001b[0m\u001b[0;34m.\u001b[0m\u001b[0mdisconnect\u001b[0m\u001b[0;34m(\u001b[0m\u001b[0;34m)\u001b[0m\u001b[0;34m\u001b[0m\u001b[0;34m\u001b[0m\u001b[0m\n\u001b[0;32m--> 781\u001b[0;31m         \u001b[0mself\u001b[0m\u001b[0;34m.\u001b[0m\u001b[0m_open_connection\u001b[0m\u001b[0;34m(\u001b[0m\u001b[0;34m)\u001b[0m\u001b[0;34m\u001b[0m\u001b[0;34m\u001b[0m\u001b[0m\n\u001b[0m\u001b[1;32m    782\u001b[0m         \u001b[0;31m# Server does not allow to run any other statement different from ALTER\u001b[0m\u001b[0;34m\u001b[0m\u001b[0;34m\u001b[0m\u001b[0;34m\u001b[0m\u001b[0m\n\u001b[1;32m    783\u001b[0m         \u001b[0;31m# when user's password has been expired.\u001b[0m\u001b[0;34m\u001b[0m\u001b[0;34m\u001b[0m\u001b[0;34m\u001b[0m\u001b[0m\n",
      "\u001b[0;32m//anaconda3/lib/python3.7/site-packages/mysql/connector/connection_cext.py\u001b[0m in \u001b[0;36m_open_connection\u001b[0;34m(self)\u001b[0m\n\u001b[1;32m    201\u001b[0m         \u001b[0;32mexcept\u001b[0m \u001b[0mMySQLInterfaceError\u001b[0m \u001b[0;32mas\u001b[0m \u001b[0mexc\u001b[0m\u001b[0;34m:\u001b[0m\u001b[0;34m\u001b[0m\u001b[0;34m\u001b[0m\u001b[0m\n\u001b[1;32m    202\u001b[0m             raise errors.get_mysql_exception(msg=exc.msg, errno=exc.errno,\n\u001b[0;32m--> 203\u001b[0;31m                                              sqlstate=exc.sqlstate)\n\u001b[0m\u001b[1;32m    204\u001b[0m         \u001b[0mself\u001b[0m\u001b[0;34m.\u001b[0m\u001b[0m_do_handshake\u001b[0m\u001b[0;34m(\u001b[0m\u001b[0;34m)\u001b[0m\u001b[0;34m\u001b[0m\u001b[0;34m\u001b[0m\u001b[0m\n\u001b[1;32m    205\u001b[0m \u001b[0;34m\u001b[0m\u001b[0m\n",
      "\u001b[0;31mDatabaseError\u001b[0m: 2003 (HY000): Can't connect to MySQL server on 'localhost' (61)"
     ]
    }
   ],
   "source": [
    "## Connecting to the database\n",
    "\n",
    "\n",
    "# db = MySQLdb.connect(host=\"AWS_IP.0.0.0\",port=3306,user=\"admin\",passwd=\"XXXXX\",db=\"students-db\")\n",
    "# cnx = myDB.cursor()\n",
    "# cnx.execute()\n",
    "\n",
    "## connecting to the database using 'connect()' method\n",
    "## it takes 3 required parameters 'host', 'user', 'passwd'\n",
    "cnx = mysql.connector.connect(\n",
    "    host = \"localhost\",\n",
    "    user = \"root\",\n",
    "    passwd = \"dbms\"\n",
    ")"
   ]
  },
  {
   "cell_type": "markdown",
   "metadata": {},
   "source": [
    "### Documentation:\n",
    "\n",
    "https://dev.mysql.com/doc/connector-python/en/connector-python-connectargs.html"
   ]
  },
  {
   "cell_type": "markdown",
   "metadata": {},
   "source": [
    "## Using a config File:\n",
    "\n",
    "You do not want to make your credentials viewable to everyone who might see this file.  So instead of explicity stating your credentials, we want to import them from another file.  "
   ]
  },
  {
   "cell_type": "code",
   "execution_count": 3,
   "metadata": {},
   "outputs": [],
   "source": [
    "import config"
   ]
  },
  {
   "cell_type": "code",
   "execution_count": 7,
   "metadata": {},
   "outputs": [
    {
     "data": {
      "text/plain": [
       "'flatiron.cftxbuh9abcx.us-east-1.rds.amazonaws.com'"
      ]
     },
     "execution_count": 7,
     "metadata": {},
     "output_type": "execute_result"
    }
   ],
   "source": [
    "config.host"
   ]
  },
  {
   "cell_type": "code",
   "execution_count": 8,
   "metadata": {},
   "outputs": [
    {
     "name": "stdout",
     "output_type": "stream",
     "text": [
      "<mysql.connector.connection_cext.CMySQLConnection object at 0x10be3f048>\n"
     ]
    }
   ],
   "source": [
    "## Connecting to the database\n",
    "\n",
    "## connecting to the database using 'connect()' method\n",
    "## it takes 3 required parameters 'host', 'user', 'passwd'\n",
    "cnx = mysql.connector .connect(\n",
    "    host = config.host,\n",
    "    user = config.user,\n",
    "    passwd = config.password\n",
    ")\n",
    "\n",
    "print(cnx) # it will print a connection object if everything is fine\n"
   ]
  },
  {
   "cell_type": "code",
   "execution_count": 10,
   "metadata": {},
   "outputs": [],
   "source": [
    "cursor = cnx.cursor()  ### used to run your code thru DataBase"
   ]
  },
  {
   "cell_type": "markdown",
   "metadata": {},
   "source": [
    "## SQL Commands: Data Definition Language Commands (DDL)\n",
    "This section will discuss the commands through which you can define your database. The commands are as follows:\n",
    "\n",
    "- CREATE\n",
    "- DROP\n",
    "- TRUNCATE\n",
    "- ALTER\n",
    "- BACKUP DATABASE"
   ]
  },
  {
   "cell_type": "markdown",
   "metadata": {},
   "source": [
    "### CREATE\n",
    "\n",
    "This statement is used to create a table or a database.\n",
    "\n"
   ]
  },
  {
   "cell_type": "markdown",
   "metadata": {},
   "source": [
    "#### The ‘CREATE DATABASE’ Statement:\n",
    "As the name suggests, this statement is used to create a database.\n",
    "\n",
    "**Syntax**\n",
    "\n",
    "`CREATE DATABASE DatabaseName;`\n",
    "\n",
    "**Example**\n",
    "\n",
    "`CREATE DATABASE Employee;`\n"
   ]
  },
  {
   "cell_type": "markdown",
   "metadata": {},
   "source": [
    "#### The **‘CREATE TABLE’** Statement\n",
    "\n",
    "This statement is used to create a table.\n",
    "\n",
    "**Syntax**\n",
    "\n",
    "`CREATE TABLE TableName (\n",
    "Column1 datatype,\n",
    "Column2 datatype,\n",
    "Column3 datatype,\n",
    "....\n",
    "ColumnN datatype\n",
    ");`\n",
    "\n",
    "**Example**\n",
    "\n",
    "`CREATE TABLE Employee_Info\n",
    "(\n",
    "EmployeeID int,\n",
    "EmployeeName varchar(255),\n",
    "Emergency ContactName varchar(255),\n",
    "PhoneNumber int,\n",
    "Address varchar(255),\n",
    "City varchar(255),\n",
    "Country varchar(255)\n",
    ");`\n",
    "\n",
    "You can also create a table using another table. Refer the below sytax and example:\n",
    "\n",
    "#### The ‘CREATE TABLE AS’ Statement\n",
    "**Syntax**\n",
    "\n",
    "`CREATE TABLE NewTableName AS\n",
    "SELECT Column1, column2,..., ColumnN\n",
    "FROM ExistingTableName\n",
    "WHERE ....;`\n",
    "\n",
    "**Example**\n",
    "\n",
    "`CREATE TABLE ExampleTable AS\n",
    "SELECT EmployeeName, PhoneNumber\n",
    "FROM Employee_Info;`"
   ]
  },
  {
   "cell_type": "markdown",
   "metadata": {},
   "source": [
    "[MYSQL Data Types](http://www.mysqltutorial.org/mysql-data-types.aspx)"
   ]
  },
  {
   "cell_type": "markdown",
   "metadata": {},
   "source": [
    "### DROP\n",
    "This statement is used to drop an existing table or a database.\n",
    "\n",
    "#### The ‘DROP DATABASE’ Statement\n",
    "This statement is used to drop an existing database. When you use this statement, complete information present in the database will be lost.\n",
    "\n",
    "**Syntax**\n",
    "\n",
    "`DROP DATABASE DatabaseName;`\n",
    "\n",
    "**Example**\n",
    "\n",
    "`DROP DATABASE Employee;`\n",
    "\n",
    "#### The ‘DROP TABLE’ Statement\n",
    "This statement is used to drop an existing table. When you use this statement, complete information present in the table will be lost.\n",
    "\n",
    "**Syntax**\n",
    "\n",
    "`DROP TABLE TableName;`\n",
    "\n",
    "**Example**\n",
    "\n",
    "`DROP Table Employee_Info;`"
   ]
  },
  {
   "cell_type": "markdown",
   "metadata": {},
   "source": [
    "### TRUNCATE\n",
    "This command is used to delete the information present in the table but does not delete the table. So, once you use this command, your information will be lost, but not the table.\n",
    "\n",
    "**Syntax**\n",
    "\n",
    "`TRUNCATE TABLE TableName;`\n",
    "\n",
    "**Example**\n",
    "\n",
    "`TRUNCATE Table Employee_Info;`"
   ]
  },
  {
   "cell_type": "markdown",
   "metadata": {},
   "source": [
    "### The ‘ALTER TABLE’ Statement\n",
    "This statement is used to add, delete, modify columns in an existing table.\n",
    "\n",
    "#### The ‘ALTER TABLE’ Statement with ADD/DROP COLUMN\n",
    "You can use the ALTER TABLE statement with ADD/DROP Column command according to your need. If you wish to add a column, then you will use the ADD command, and if you wish to delete a column, then you will use the DROP COLUMN command.\n",
    "\n",
    "**Syntax**\n",
    "`ALTER TABLE TableName\n",
    "ADD ColumnName Datatype;`\n",
    "\n",
    "`ALTER TABLE TableName\n",
    "DROP COLUMN ColumnName;`\n",
    "\n",
    "**Example**\n",
    "\n",
    "`ALTER TABLE Employee_Info\n",
    "ADD BloodGroup varchar(255);`\n",
    " \n",
    "`ALTER TABLE Employee_Info\n",
    "DROP COLUMN BloodGroup ;`\n",
    "\n",
    "#### The ‘ALTER TABLE’ Statement with ALTER/MODIFY COLUMN\n",
    "This statement is used to change the datatype of an existing column in a table.\n",
    "\n",
    "**Syntax**\n",
    "\n",
    "`ALTER TABLE TableName\n",
    "ALTER COLUMN ColumnName Datatype;`\n",
    "\n",
    "**Example**\n",
    " \n",
    "`ALTER TABLE Employee_Info\n",
    "ADD DOB year;\n",
    "ALTER TABLE Employee_Info\n",
    "ALTER DOB date;`"
   ]
  },
  {
   "cell_type": "markdown",
   "metadata": {},
   "source": [
    "### BACKUP DATABASE\n",
    "This statement is used to create a full backup of an existing database.\n",
    "\n",
    "**Syntax**\n",
    "`BACKUP DATABASE DatabaseName\n",
    "TO DISK = 'filepath';`\n",
    "\n",
    "**Example**\n",
    "\n",
    "`BACKUP DATABASE Employee\n",
    "TO DISK = 'C:UsersSahitiDesktop';`\n"
   ]
  },
  {
   "cell_type": "markdown",
   "metadata": {},
   "source": [
    "## SQL Commands: Constraints Used In Database\n",
    "Constraints are used in a database to specify the rules for data in a table. The following are the different types of constraints:\n",
    "\n",
    "- NOT NULL\n",
    "- UNIQUE\n",
    "- CHECK\n",
    "- DEFAULT\n",
    "- INDEX\n",
    "\n",
    "\n",
    "### NOT NULL\n",
    "This constraint ensures that a column cannot have a NULL value.\n",
    "\n",
    "**Example**\n",
    "\n",
    " \n",
    "`CREATE TABLE Employee_Info\n",
    "(\n",
    "EmployeeID int NOT NULL,\n",
    "EmployeeName varchar(255) NOT NULL,\n",
    "Emergency ContactName varchar(255),\n",
    "PhoneNumber int NOT NULL,\n",
    "Address varchar(255),\n",
    "City varchar(255),\n",
    "Country varchar(255)\n",
    ");`\n",
    " \n",
    "NOT NULL on ALTER TABLE\n",
    " \n",
    "`ALTER TABLE Employee_Info\n",
    "MODIFY PhoneNumber int NOT NULL;`\n",
    "\n",
    "### UNIQUE\n",
    "This constraint ensures that all the values in a column are unique.\n",
    "\n",
    "**Example**\n",
    "\n",
    "UNIQUE on Create Table\n",
    " \n",
    "`CREATE TABLE Employee_Info\n",
    "(\n",
    "EmployeeID int NOT NULL UNIQUE,\n",
    "EmployeeName varchar(255) NOT NULL,\n",
    "Emergency ContactName varchar(255),\n",
    "PhoneNumber int NOT NULL,\n",
    "Address varchar(255),\n",
    "City varchar(255),\n",
    "Country varchar(255)\n",
    ");`\n",
    " \n",
    "UNIQUE on Multiple Columns\n",
    " \n",
    "`CREATE TABLE Employee_Info\n",
    "(\n",
    "EmployeeID int NOT NULL,\n",
    "EmployeeName varchar(255) NOT NULL,\n",
    "Emergency ContactName varchar(255),\n",
    "PhoneNumber int NOT NULL,\n",
    "Address varchar(255),\n",
    "City varchar(255),\n",
    "Country varchar(255),\n",
    "CONSTRAINT UC_Employee_Info UNIQUE(Employee_ID, PhoneNumber)\n",
    ");`\n",
    " \n",
    "UNIQUE on ALTER TABLE\n",
    " \n",
    "`ALTER TABLE Employee_Info\n",
    "ADD UNIQUE (Employee_ID);`\n",
    " \n",
    "To drop a UNIQUE constraint\n",
    " \n",
    "`ALTER TABLE  Employee_Info\n",
    "DROP CONSTRAINT UC_Employee_Info;`"
   ]
  },
  {
   "cell_type": "code",
   "execution_count": null,
   "metadata": {},
   "outputs": [],
   "source": []
  },
  {
   "cell_type": "markdown",
   "metadata": {},
   "source": [
    "## Creating DB"
   ]
  },
  {
   "cell_type": "code",
   "execution_count": 11,
   "metadata": {},
   "outputs": [],
   "source": [
    "from mysql.connector import errorcode"
   ]
  },
  {
   "cell_type": "code",
   "execution_count": 12,
   "metadata": {},
   "outputs": [],
   "source": [
    "db_name = 'employees'"
   ]
  },
  {
   "cell_type": "code",
   "execution_count": 13,
   "metadata": {},
   "outputs": [
    {
     "name": "stdout",
     "output_type": "stream",
     "text": [
      "Database employees does not exists.\n",
      "Database employees created successfully.\n"
     ]
    }
   ],
   "source": [
    "def create_database(cursor, database):\n",
    "    try:\n",
    "        cursor.execute(\n",
    "            \"CREATE DATABASE {} DEFAULT CHARACTER SET 'utf8'\".format(database))\n",
    "    except mysql.connector.Error as err:\n",
    "        print(\"Failed creating database: {}\".format(err))\n",
    "        exit(1)\n",
    "\n",
    "try:\n",
    "    cursor.execute(\"USE {}\".format(db_name))\n",
    "except mysql.connector.Error as err:\n",
    "    print(\"Database {} does not exists.\".format(db_name))\n",
    "    if err.errno == errorcode.ER_BAD_DB_ERROR:\n",
    "        create_database(cursor, db_name)\n",
    "        print(\"Database {} created successfully.\".format(db_name))\n",
    "        cnx.database = db_name\n",
    "    else:\n",
    "        print(err)\n",
    "        exit(1)"
   ]
  },
  {
   "cell_type": "markdown",
   "metadata": {},
   "source": [
    "### Creating tables"
   ]
  },
  {
   "cell_type": "code",
   "execution_count": 14,
   "metadata": {},
   "outputs": [],
   "source": [
    "DB_NAME = 'employees'\n",
    "\n",
    "TABLES = {}\n",
    "TABLES['employees'] = (\n",
    "    \"CREATE TABLE employees (\"\n",
    "    \"  emp_no int(11) NOT NULL AUTO_INCREMENT,\"\n",
    "    \"  birth_date date NOT NULL,\"\n",
    "    \"  first_name varchar(14) NOT NULL,\"\n",
    "    \"  last_name varchar(16) NOT NULL,\"\n",
    "    \"  gender enum('M','F') NOT NULL,\"\n",
    "    \"  hire_date date NOT NULL,\"\n",
    "    \"  PRIMARY KEY (emp_no)\"\n",
    "    \") ENGINE=InnoDB\")\n",
    "\n",
    "TABLES['departments'] = (\n",
    "    \"CREATE TABLE departments (\"\n",
    "    \"  dept_no char(4) NOT NULL,\"\n",
    "    \"  dept_name varchar(40) NOT NULL,\"\n",
    "    \"  PRIMARY KEY (dept_no), UNIQUE KEY dept_name (dept_name)\"\n",
    "    \") ENGINE=InnoDB\")\n",
    "\n",
    "TABLES['salaries'] = (\n",
    "    \"CREATE TABLE salaries (\"\n",
    "    \"  emp_no int(11) NOT NULL,\"\n",
    "    \"  salary int(11) NOT NULL,\"\n",
    "    \"  from_date date NOT NULL,\"\n",
    "    \"  to_date date NOT NULL,\"\n",
    "    \"  PRIMARY KEY (emp_no,from_date), KEY emp_no (emp_no),\"\n",
    "    \"  CONSTRAINT salaries_ibfk_1 FOREIGN KEY (emp_no) \"\n",
    "    \"     REFERENCES employees (emp_no) ON DELETE CASCADE\"\n",
    "    \") ENGINE=InnoDB\")\n",
    "\n",
    "TABLES['dept_emp'] = (\n",
    "    \"CREATE TABLE dept_emp (\"\n",
    "    \"  emp_no int(11) NOT NULL,\"\n",
    "    \"  dept_no char(4) NOT NULL,\"\n",
    "    \"  from_date date NOT NULL,\"\n",
    "    \"  to_date date NOT NULL,\"\n",
    "    \"  PRIMARY KEY (emp_no,dept_no), KEY emp_no (emp_no),\"\n",
    "    \"  KEY dept_no (dept_no),\"\n",
    "    \"  CONSTRAINT dept_emp_ibfk_1 FOREIGN KEY (emp_no) \"\n",
    "    \"     REFERENCES employees (emp_no) ON DELETE CASCADE,\"\n",
    "    \"  CONSTRAINT dept_emp_ibfk_2 FOREIGN KEY (dept_no) \"\n",
    "    \"     REFERENCES departments (dept_no) ON DELETE CASCADE\"\n",
    "    \") ENGINE=InnoDB\")\n",
    "\n",
    "TABLES['dept_manager'] = (\n",
    "    \"  CREATE TABLE dept_manager (\"\n",
    "    \"  dept_no char(4) NOT NULL,\"\n",
    "    \"  emp_no int(11) NOT NULL,\"\n",
    "    \"  from_date date NOT NULL,\"\n",
    "    \"  to_date date NOT NULL,\"\n",
    "    \"  PRIMARY KEY (emp_no,dept_no),\"\n",
    "    \"  KEY emp_no (emp_no),\"\n",
    "    \"  KEY dept_no (dept_no),\"\n",
    "    \"  CONSTRAINT dept_manager_ibfk_1 FOREIGN KEY (emp_no) \"\n",
    "    \"     REFERENCES employees (emp_no) ON DELETE CASCADE,\"\n",
    "    \"  CONSTRAINT dept_manager_ibfk_2 FOREIGN KEY (dept_no) \"\n",
    "    \"     REFERENCES departments (dept_no) ON DELETE CASCADE\"\n",
    "    \") ENGINE=InnoDB\")\n",
    "\n",
    "TABLES['titles'] = (\n",
    "    \"CREATE TABLE titles (\"\n",
    "    \"  emp_no int(11) NOT NULL,\"\n",
    "    \"  title varchar(50) NOT NULL,\"\n",
    "    \"  from_date date NOT NULL,\"\n",
    "    \"  to_date date DEFAULT NULL,\"\n",
    "    \"  PRIMARY KEY (emp_no,title,from_date), KEY emp_no (emp_no),\"\n",
    "    \"  CONSTRAINT titles_ibfk_1 FOREIGN KEY (emp_no)\"\n",
    "    \"     REFERENCES employees (emp_no) ON DELETE CASCADE\"\n",
    "    \") ENGINE=InnoDB\")"
   ]
  },
  {
   "cell_type": "code",
   "execution_count": 15,
   "metadata": {},
   "outputs": [
    {
     "data": {
      "text/plain": [
       "\"CREATE TABLE employees (  emp_no int(11) NOT NULL AUTO_INCREMENT,  birth_date date NOT NULL,  first_name varchar(14) NOT NULL,  last_name varchar(16) NOT NULL,  gender enum('M','F') NOT NULL,  hire_date date NOT NULL,  PRIMARY KEY (emp_no)) ENGINE=InnoDB\""
      ]
     },
     "execution_count": 15,
     "metadata": {},
     "output_type": "execute_result"
    }
   ],
   "source": [
    "TABLES['employees']"
   ]
  },
  {
   "cell_type": "code",
   "execution_count": 16,
   "metadata": {},
   "outputs": [
    {
     "name": "stdout",
     "output_type": "stream",
     "text": [
      "Creating table employees: OK\n",
      "Creating table departments: OK\n",
      "Creating table salaries: OK\n",
      "Creating table dept_emp: OK\n",
      "Creating table dept_manager: OK\n",
      "Creating table titles: OK\n"
     ]
    }
   ],
   "source": [
    "for table_name in TABLES:\n",
    "    table_description = TABLES[table_name]\n",
    "    try:\n",
    "        print(\"Creating table {}: \".format(table_name), end='')\n",
    "        cursor.execute(table_description)\n",
    "    except mysql.connector.Error as err:\n",
    "        if err.errno == errorcode.ER_TABLE_EXISTS_ERROR:\n",
    "            print(\"already exists.\")\n",
    "        else:\n",
    "            print(err.msg)\n",
    "    else:\n",
    "        print(\"OK\")\n",
    "\n",
    "cursor.close()\n",
    "cnx.close()"
   ]
  },
  {
   "cell_type": "markdown",
   "metadata": {},
   "source": [
    "## Inserting Data"
   ]
  },
  {
   "cell_type": "code",
   "execution_count": 17,
   "metadata": {},
   "outputs": [],
   "source": [
    "#since we closed the connection, we need to reinstatiate it\n",
    "cnx = mysql.connector.connect(\n",
    "    host = config.host,\n",
    "    user = config.user,\n",
    "    passwd = config.password,\n",
    "    database = DB_NAME\n",
    ")\n",
    "cursor = cnx.cursor()"
   ]
  },
  {
   "cell_type": "code",
   "execution_count": null,
   "metadata": {},
   "outputs": [],
   "source": [
    "# cursor = create_cnx()"
   ]
  },
  {
   "cell_type": "code",
   "execution_count": 18,
   "metadata": {},
   "outputs": [],
   "source": [
    "from datetime import date, datetime, timedelta\n",
    "\n",
    "tomorrow = datetime.now().date() + timedelta(days=1)   ##makes a datetime stamp and .date() is just pulling the date no time\n",
    "\n",
    "add_employee = (\"INSERT INTO employees \"\n",
    "               \"(first_name, last_name, hire_date, gender, birth_date) \"\n",
    "               \"VALUES (%s, %s, %s, %s, %s)\")\n",
    "add_salary = (\"INSERT INTO salaries \"\n",
    "              \"(emp_no, salary, from_date, to_date) \"\n",
    "              \"VALUES (%(emp_no)s, %(salary)s, %(from_date)s, %(to_date)s)\")\n",
    "\n",
    "data_employee = ('Geert', 'Vanderkelen', tomorrow, 'M', date(1977, 6, 14))\n",
    "\n"
   ]
  },
  {
   "cell_type": "code",
   "execution_count": null,
   "metadata": {},
   "outputs": [],
   "source": [
    "###"
   ]
  },
  {
   "cell_type": "code",
   "execution_count": 20,
   "metadata": {
    "scrolled": false
   },
   "outputs": [
    {
     "data": {
      "text/plain": [
       "('Geert',\n",
       " 'Vanderkelen',\n",
       " datetime.date(2019, 10, 24),\n",
       " 'M',\n",
       " datetime.date(1977, 6, 14))"
      ]
     },
     "execution_count": 20,
     "metadata": {},
     "output_type": "execute_result"
    }
   ],
   "source": [
    "data_employee"
   ]
  },
  {
   "cell_type": "code",
   "execution_count": 21,
   "metadata": {},
   "outputs": [
    {
     "data": {
      "text/plain": [
       "<mysql.connector.cursor_cext.CMySQLCursor at 0x10be3f7f0>"
      ]
     },
     "execution_count": 21,
     "metadata": {},
     "output_type": "execute_result"
    }
   ],
   "source": [
    "cursor"
   ]
  },
  {
   "cell_type": "code",
   "execution_count": 22,
   "metadata": {},
   "outputs": [],
   "source": [
    "# Insert new employee\n",
    "cursor.execute(add_employee, data_employee)\n",
    "emp_no = cursor.lastrowid\n"
   ]
  },
  {
   "cell_type": "code",
   "execution_count": 25,
   "metadata": {},
   "outputs": [
    {
     "data": {
      "text/plain": [
       "1"
      ]
     },
     "execution_count": 25,
     "metadata": {},
     "output_type": "execute_result"
    }
   ],
   "source": [
    "emp_no"
   ]
  },
  {
   "cell_type": "code",
   "execution_count": 24,
   "metadata": {},
   "outputs": [],
   "source": [
    "add_salary = (\"INSERT INTO salaries \"\n",
    "              \"(emp_no, salary, from_date, to_date) \"\n",
    "              \"VALUES (%(emp_no)s, %(salary)s, %(from_date)s, %(to_date)s)\")\n",
    "\n",
    "# Insert salary information\n",
    "data_salary = {\n",
    "  'emp_no': emp_no,\n",
    "  'salary': 50000,\n",
    "  'from_date': tomorrow,\n",
    "  'to_date': date(9999, 1, 1),\n",
    "}\n",
    "cursor.execute(add_salary, data_salary)\n",
    "\n",
    "# Make sure data is committed to the database\n",
    "cnx.commit()\n",
    "\n"
   ]
  },
  {
   "cell_type": "markdown",
   "metadata": {},
   "source": [
    "## Insert Many"
   ]
  },
  {
   "cell_type": "markdown",
   "metadata": {},
   "source": [
    "cursor.executemany(operation, seq_of_params)"
   ]
  },
  {
   "cell_type": "code",
   "execution_count": null,
   "metadata": {},
   "outputs": [],
   "source": [
    "### only use to open connect again\n",
    "\n",
    "cnx = mysql.connector.connect(\n",
    "    host = config.host,\n",
    "    user = config.user,\n",
    "    passwd = config.password,\n",
    "    database = DB_NAME\n",
    ")\n",
    "cursor = cnx.cursor()"
   ]
  },
  {
   "cell_type": "code",
   "execution_count": 26,
   "metadata": {},
   "outputs": [],
   "source": [
    "data = [\n",
    "  ('Jane', date(2005, 2, 12)),\n",
    "  ('Joe', date(2006, 5, 23)),\n",
    "  ('John', date(2010, 10, 3)),\n",
    "]\n",
    "stmt = \"INSERT INTO employees (first_name, hire_date) VALUES (%s, %s)\"\n",
    "cursor.executemany(stmt, data)"
   ]
  },
  {
   "cell_type": "code",
   "execution_count": 27,
   "metadata": {},
   "outputs": [],
   "source": [
    "cnx.commit()"
   ]
  },
  {
   "cell_type": "code",
   "execution_count": 28,
   "metadata": {},
   "outputs": [],
   "source": [
    "cursor.close()\n",
    "cnx.close()"
   ]
  },
  {
   "cell_type": "code",
   "execution_count": 29,
   "metadata": {},
   "outputs": [
    {
     "data": {
      "text/plain": [
       "1"
      ]
     },
     "execution_count": 29,
     "metadata": {},
     "output_type": "execute_result"
    }
   ],
   "source": [
    "emp_no"
   ]
  },
  {
   "cell_type": "markdown",
   "metadata": {},
   "source": [
    "## Querying the DB"
   ]
  },
  {
   "cell_type": "code",
   "execution_count": 36,
   "metadata": {},
   "outputs": [],
   "source": [
    "cnx = mysql.connector.connect(\n",
    "    host = config.host,\n",
    "    user = config.user,\n",
    "    passwd = config.password,\n",
    "    database = DB_NAME\n",
    ")\n",
    "cursor = cnx.cursor()"
   ]
  },
  {
   "cell_type": "code",
   "execution_count": 37,
   "metadata": {},
   "outputs": [
    {
     "name": "stdout",
     "output_type": "stream",
     "text": [
      ", Jane was hired on 12 Feb 2005\n",
      ", Joe was hired on 23 May 2006\n",
      ", John was hired on 03 Oct 2010\n"
     ]
    }
   ],
   "source": [
    "\n",
    "query = (\"SELECT first_name, last_name, hire_date FROM employees \"\n",
    "         \"WHERE hire_date BETWEEN %s AND %s\")\n",
    "\n",
    "hire_start = date(2005, 1, 1)\n",
    "hire_end = date(2010, 12, 31)\n",
    "\n",
    "cursor.execute(query, (hire_start, hire_end))\n",
    "\n",
    "for (first_name, last_name, hire_date) in cursor:\n",
    "  print(\"{}, {} was hired on {:%d %b %Y}\".format(\n",
    "    last_name, first_name, hire_date))\n",
    "\n",
    "cursor.close()\n",
    "cnx.close()"
   ]
  },
  {
   "cell_type": "markdown",
   "metadata": {},
   "source": [
    "## Applied: Working with our student data"
   ]
  },
  {
   "cell_type": "markdown",
   "metadata": {},
   "source": [
    "### Import our student data"
   ]
  },
  {
   "cell_type": "code",
   "execution_count": 45,
   "metadata": {},
   "outputs": [],
   "source": [
    "import json"
   ]
  },
  {
   "cell_type": "code",
   "execution_count": 46,
   "metadata": {},
   "outputs": [],
   "source": [
    "\n",
    "\n",
    "f=open('students.json','r')\n",
    "data=json.load(f)"
   ]
  },
  {
   "cell_type": "markdown",
   "metadata": {},
   "source": [
    "### Create a connection and cursor to AWS db"
   ]
  },
  {
   "cell_type": "code",
   "execution_count": 47,
   "metadata": {},
   "outputs": [],
   "source": [
    "cnx = mysql.connector.connect(\n",
    "    host = config.host,\n",
    "    user = config.user,\n",
    "    passwd = config.password,\n",
    "    database = DB_NAME\n",
    ")\n",
    "cursor = cnx.cursor()"
   ]
  },
  {
   "cell_type": "markdown",
   "metadata": {},
   "source": [
    "### Create a table for our student info"
   ]
  },
  {
   "cell_type": "code",
   "execution_count": 48,
   "metadata": {
    "scrolled": true
   },
   "outputs": [
    {
     "data": {
      "text/plain": [
       "{'name': 'Clare Blessen',\n",
       " 'dob': '1994-08-10',\n",
       " 'birthplace': 'Chicago, IL',\n",
       " 'siblings': 1,\n",
       " 'years_in_nyc': 2,\n",
       " 'favorite_food': 'cheese'}"
      ]
     },
     "execution_count": 48,
     "metadata": {},
     "output_type": "execute_result"
    }
   ],
   "source": [
    "data[3]"
   ]
  },
  {
   "cell_type": "code",
   "execution_count": null,
   "metadata": {},
   "outputs": [],
   "source": [
    "\n",
    "\n",
    "\n",
    "\n",
    "\n",
    "didnt finish"
   ]
  },
  {
   "cell_type": "code",
   "execution_count": 72,
   "metadata": {},
   "outputs": [],
   "source": [
    "\n",
    "create_query = \"\"\"create table students(\n",
    "                  student_id int(7) not null AUTO_INCREMENT Primary Key,\n",
    "                  name varchar(30) not null,\n",
    "                  dob date not null,\n",
    "                  birthplace Varchar(255),\n",
    "                  siblings int(11) not null,\n",
    "                  years_in_nyc float(32) NOT NULL,\n",
    "                  favorite_food varchar(100) not null\n",
    "                  ) ENGINE=InnoDB\n",
    "\n",
    "\"\"\""
   ]
  },
  {
   "cell_type": "code",
   "execution_count": 73,
   "metadata": {},
   "outputs": [],
   "source": [
    "cursor.execute(create_query)"
   ]
  },
  {
   "cell_type": "markdown",
   "metadata": {},
   "source": [
    "### Insert the student data into the table"
   ]
  },
  {
   "cell_type": "code",
   "execution_count": 74,
   "metadata": {},
   "outputs": [
    {
     "name": "stdout",
     "output_type": "stream",
     "text": [
      "Sean Abu Wilson\n",
      "Rebecca Chi-May Weng\n",
      "Charlie Schlinkert\n",
      "Clare Blessen\n",
      "Dave Bletsch\n",
      "Eddie Pognon\n",
      "Findlay Bowditch\n",
      "Gabriel Seemann\n",
      "Garrett Keyes\n",
      "Jake Cohen\n",
      "JP Rinfret\n",
      "Kenny Miyasato\n",
      "Kyle McNicoll\n",
      "Marco Sanchez-Ayala\n",
      "Matthew R Finch\n",
      "Melissa Munz\n",
      "Michael Eby\n",
      "Ravi Charan\n",
      "Regina Ryan\n",
      "Samuel Diaz\n",
      "Sasha Epelbaum\n",
      "Stephanie Bourdeau\n",
      "Wesley Willis\n",
      "Zoe Zhu\n",
      "Christopher Shaw\n",
      "['name', 'dob', 'birthplace', 'siblings', 'years_in_nyc', 'favorite_food']\n"
     ]
    }
   ],
   "source": [
    "#\n",
    "keys_list = []\n",
    "for student in data:\n",
    "    print(student['name'])\n",
    "    keys = student.keys()\n",
    "    for word in keys:\n",
    "        if word not in keys_list:\n",
    "            keys_list.append(word)\n",
    "print (keys_list)"
   ]
  },
  {
   "cell_type": "code",
   "execution_count": 75,
   "metadata": {},
   "outputs": [],
   "source": [
    "student = data[0]"
   ]
  },
  {
   "cell_type": "code",
   "execution_count": null,
   "metadata": {},
   "outputs": [],
   "source": [
    "student_list =[]\n",
    "\n",
    "for student in data:\n",
    "    if \"favoritefood\" in student.keys():\n",
    "        students[favorite_food] = student[\"favoritefood\"]\n",
    "    student_tuple = (student['name'],student['dob'],\n",
    "                  student['birthplace'],\n",
    "                  student['siblings'],\n",
    "                  student['years_in_nyc float'],\n",
    "                  student['favorite_food'])\n",
    "    student"
   ]
  },
  {
   "cell_type": "code",
   "execution_count": null,
   "metadata": {},
   "outputs": [],
   "source": [
    "insert_statment = \"insert into students ([col name]) values(%s,%s,%s,%s,%s,%s)\""
   ]
  },
  {
   "cell_type": "code",
   "execution_count": null,
   "metadata": {},
   "outputs": [],
   "source": [
    "cursor.executemany(insert_statment, students_list)\n",
    "cnx.commit"
   ]
  },
  {
   "cell_type": "markdown",
   "metadata": {},
   "source": [
    "### Write queries to answer the following questions:\n",
    "\n",
    "**Questions**\n",
    "- Which student is the youngest?\n",
    "- Which student's birthday is closest to the cohort's graduation date?\n",
    "- Which student has the most siblings?\n",
    "- How many students are only children?\n",
    "- Which 3 students have lived in NYC the shortest amount of time?\n",
    "- How many students are native New Yorkers?\n",
    "- What are the most popular foods among the class?"
   ]
  },
  {
   "cell_type": "markdown",
   "metadata": {},
   "source": [
    "[Utilizing the date data type in MySQL](http://www.mysqltutorial.org/mysql-date/)"
   ]
  },
  {
   "cell_type": "code",
   "execution_count": null,
   "metadata": {},
   "outputs": [],
   "source": []
  }
 ],
 "metadata": {
  "kernelspec": {
   "display_name": "Python 3",
   "language": "python",
   "name": "python3"
  },
  "language_info": {
   "codemirror_mode": {
    "name": "ipython",
    "version": 3
   },
   "file_extension": ".py",
   "mimetype": "text/x-python",
   "name": "python",
   "nbconvert_exporter": "python",
   "pygments_lexer": "ipython3",
   "version": "3.7.3"
  }
 },
 "nbformat": 4,
 "nbformat_minor": 2
}
