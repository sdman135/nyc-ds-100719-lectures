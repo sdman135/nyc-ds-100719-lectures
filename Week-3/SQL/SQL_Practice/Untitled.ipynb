{
 "cells": [
  {
   "cell_type": "code",
   "execution_count": null,
   "metadata": {},
   "outputs": [],
   "source": []
  },
  {
   "cell_type": "code",
   "execution_count": null,
   "metadata": {},
   "outputs": [],
   "source": [
    "{'name': 'Sean Abu Wilson',\n",
    "'dob': '1985-02-06',\n",
    "'birthplace': 'Birmingham, AL',\n",
    "'siblings' : 2,\n",
    "'years_in_nyc': 8.4,\n",
    "'favorite_food': 'oatmeal raisin cookies'}"
   ]
  },
  {
   "cell_type": "code",
   "execution_count": null,
   "metadata": {},
   "outputs": [],
   "source": [
    "{'name' : 'Samuel Diaz',\n",
    "'dob' : '1987-09-21',\n",
    "'birthplace' : 'Harlem, NY',\n",
    "'siblings' : 2,\n",
    "'years_in_nyc': 32,\n",
    "'favorite_food': 'Grilled Steak with Rice and Broccoli'}\n",
    "\n",
    "\n",
    " "
   ]
  }
 ],
 "metadata": {
  "kernelspec": {
   "display_name": "Python 3",
   "language": "python",
   "name": "python3"
  },
  "language_info": {
   "codemirror_mode": {
    "name": "ipython",
    "version": 3
   },
   "file_extension": ".py",
   "mimetype": "text/x-python",
   "name": "python",
   "nbconvert_exporter": "python",
   "pygments_lexer": "ipython3",
   "version": "3.7.3"
  }
 },
 "nbformat": 4,
 "nbformat_minor": 2
}
