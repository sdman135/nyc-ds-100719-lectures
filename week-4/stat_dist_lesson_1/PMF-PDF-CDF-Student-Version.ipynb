{
 "cells": [
  {
   "cell_type": "markdown",
   "metadata": {
    "slideshow": {
     "slide_type": "slide"
    }
   },
   "source": [
    "# PMF, CMF, PDF and CDF\n",
    "\n",
    "## Probability Mass Function, Probability Density Function and Cumulative Density Function"
   ]
  },
  {
   "cell_type": "markdown",
   "metadata": {
    "slideshow": {
     "slide_type": "slide"
    }
   },
   "source": [
    "# Learning Goals:\n",
    "    - Be able to explain and interpret the CMF, PMF, CDF and PDF\n",
    "    - Be able to calculate the probability of certain events occurring given a distribution."
   ]
  },
  {
   "cell_type": "markdown",
   "metadata": {
    "slideshow": {
     "slide_type": "slide"
    }
   },
   "source": [
    "## Probability Mass Function\n",
    "\n",
    "<img src=\"dice_pdf.svg.png\" width=700>"
   ]
  },
  {
   "cell_type": "code",
   "execution_count": null,
   "metadata": {},
   "outputs": [],
   "source": [
    "# "
   ]
  },
  {
   "cell_type": "markdown",
   "metadata": {
    "slideshow": {
     "slide_type": "slide"
    }
   },
   "source": [
    "## Probability Mass Function and Cumulative Mass Function\n",
    "<img src=\"dice_cmg.jpg\" width=850>"
   ]
  },
  {
   "cell_type": "code",
   "execution_count": null,
   "metadata": {},
   "outputs": [],
   "source": []
  },
  {
   "cell_type": "code",
   "execution_count": null,
   "metadata": {},
   "outputs": [],
   "source": []
  },
  {
   "cell_type": "markdown",
   "metadata": {
    "slideshow": {
     "slide_type": "slide"
    }
   },
   "source": [
    "## PDF - Probability Density Function\n",
    "\n",
    "Probability density functions serve to outline the underlying theoretical distribution of continuous variables. A PDF shows the relative likelihood of a given observation. For example, in our current example, you might wonder, what is the probability that an individual has a weight of 120 pounds? When working with PDFs, the answer to this would be 0. You really only can calculate probabilities within an interval for a continuous variable. While a lot of individuals may have a weight of approximately 120 pounds, the probability of having a weight of *exactly* 120 pounds is zero. You must define an interval, however small such as 119.999 to 120.001, in order to have a positive non-zero probability."
   ]
  },
  {
   "cell_type": "code",
   "execution_count": 4,
   "metadata": {
    "slideshow": {
     "slide_type": "slide"
    }
   },
   "outputs": [],
   "source": [
    "import pandas as pd\n",
    "import matplotlib.pyplot as plt\n",
    "import seaborn as sns\n",
    "sns.set_style('darkgrid')\n",
    "%matplotlib inline"
   ]
  },
  {
   "cell_type": "code",
   "execution_count": 5,
   "metadata": {
    "slideshow": {
     "slide_type": "slide"
    }
   },
   "outputs": [
    {
     "name": "stdout",
     "output_type": "stream",
     "text": [
      "bwt gestation parity age height weight smoke\r\n",
      "120 284   0  27  62 100   0\r\n",
      "113 282   0  33  64 135   0\r\n",
      "128 279   0  28  64 115   1\r\n",
      "123 999   0  36  69 190   0\r\n",
      "108 282   0  23  67 125   1\r\n",
      "136 286   0  25  62  93   0\r\n",
      "138 244   0  33  62 178   0\r\n",
      "132 245   0  23  65 140   0\r\n",
      "120 289   0  25  62 125   0\r\n"
     ]
    }
   ],
   "source": [
    "!head babies.txt"
   ]
  },
  {
   "cell_type": "code",
   "execution_count": 6,
   "metadata": {
    "slideshow": {
     "slide_type": "slide"
    }
   },
   "outputs": [
    {
     "data": {
      "text/html": [
       "<div>\n",
       "<style scoped>\n",
       "    .dataframe tbody tr th:only-of-type {\n",
       "        vertical-align: middle;\n",
       "    }\n",
       "\n",
       "    .dataframe tbody tr th {\n",
       "        vertical-align: top;\n",
       "    }\n",
       "\n",
       "    .dataframe thead th {\n",
       "        text-align: right;\n",
       "    }\n",
       "</style>\n",
       "<table border=\"1\" class=\"dataframe\">\n",
       "  <thead>\n",
       "    <tr style=\"text-align: right;\">\n",
       "      <th></th>\n",
       "      <th>weight</th>\n",
       "    </tr>\n",
       "  </thead>\n",
       "  <tbody>\n",
       "    <tr>\n",
       "      <th>0</th>\n",
       "      <td>120</td>\n",
       "    </tr>\n",
       "    <tr>\n",
       "      <th>1</th>\n",
       "      <td>113</td>\n",
       "    </tr>\n",
       "    <tr>\n",
       "      <th>2</th>\n",
       "      <td>128</td>\n",
       "    </tr>\n",
       "    <tr>\n",
       "      <th>3</th>\n",
       "      <td>123</td>\n",
       "    </tr>\n",
       "    <tr>\n",
       "      <th>4</th>\n",
       "      <td>108</td>\n",
       "    </tr>\n",
       "  </tbody>\n",
       "</table>\n",
       "</div>"
      ],
      "text/plain": [
       "   weight\n",
       "0     120\n",
       "1     113\n",
       "2     128\n",
       "3     123\n",
       "4     108"
      ]
     },
     "execution_count": 6,
     "metadata": {},
     "output_type": "execute_result"
    }
   ],
   "source": [
    "df = pd.read_csv('baby_weights.csv')\n",
    "df.head()"
   ]
  },
  {
   "cell_type": "code",
   "execution_count": 7,
   "metadata": {
    "slideshow": {
     "slide_type": "slide"
    }
   },
   "outputs": [
    {
     "data": {
      "text/plain": [
       "Text(0, 0.5, 'Relative Probability')"
      ]
     },
     "execution_count": 7,
     "metadata": {},
     "output_type": "execute_result"
    },
    {
     "data": {
      "image/png": "[encoded data removed]",
      "text/plain": [
       "<Figure size 720x720 with 1 Axes>"
      ]
     },
     "metadata": {
      "needs_background": "light"
     },
     "output_type": "display_data"
    }
   ],
   "source": [
    "plt.figure(figsize=(10,10))\n",
    "sns.kdeplot(df.weight);\n",
    "plt.ylabel('Relative Probability')"
   ]
  },
  {
   "cell_type": "markdown",
   "metadata": {
    "slideshow": {
     "slide_type": "slide"
    }
   },
   "source": [
    "## CDF - Cumulative Density Function"
   ]
  },
  {
   "cell_type": "markdown",
   "metadata": {},
   "source": [
    "percentiles r the percentage given and all under it "
   ]
  },
  {
   "cell_type": "code",
   "execution_count": 8,
   "metadata": {
    "slideshow": {
     "slide_type": "slide"
    }
   },
   "outputs": [
    {
     "name": "stdout",
     "output_type": "stream",
     "text": [
      "0th percentile: 55.0\n",
      "10th percentile: 97.0\n",
      "20th percentile: 105.0\n",
      "30th percentile: 111.0\n",
      "40th percentile: 116.0\n",
      "50th percentile: 120.0\n",
      "60th percentile: 124.0\n",
      "70th percentile: 129.0\n",
      "80th percentile: 134.0\n",
      "90th percentile: 142.0\n"
     ]
    }
   ],
   "source": [
    "for i in range(10):\n",
    "    print('{}th percentile: {}'.format(i*10, df.weight.quantile(q=i/10.0)))"
   ]
  },
  {
   "cell_type": "code",
   "execution_count": 9,
   "metadata": {
    "slideshow": {
     "slide_type": "slide"
    }
   },
   "outputs": [
    {
     "name": "stdout",
     "output_type": "stream",
     "text": [
      "0th percentile: 55.0\n",
      "10th percentile: 97.0\n",
      "20th percentile: 105.0\n",
      "30th percentile: 111.0\n",
      "40th percentile: 116.0\n",
      "50th percentile: 120.0\n",
      "60th percentile: 124.0\n",
      "70th percentile: 129.0\n",
      "80th percentile: 134.0\n",
      "90th percentile: 142.0\n"
     ]
    },
    {
     "data": {
      "text/plain": [
       "Text(0, 0.5, 'Cumulative Density')"
      ]
     },
     "execution_count": 9,
     "metadata": {},
     "output_type": "execute_result"
    },
    {
     "data": {
      "image/png": "[encoded data removed]",
      "text/plain": [
       "<Figure size 864x576 with 1 Axes>"
      ]
     },
     "metadata": {
      "needs_background": "light"
     },
     "output_type": "display_data"
    }
   ],
   "source": [
    "plt.figure(figsize=(12,8))\n",
    "sns.distplot(df.weight,\n",
    "             hist_kws=dict(cumulative=True),\n",
    "             kde_kws=dict(cumulative=True)\n",
    "            )\n",
    "for i in range(10):\n",
    "    print('{}th percentile: {}'.format(i*10, df.weight.quantile(q=i/10.0)))\n",
    "    plt.scatter(df.weight.quantile(q=i/10.0), i/10.0, c='red')\n",
    "plt.title('CDF of Weights')\n",
    "plt.xlabel('Weight')\n",
    "plt.ylabel('Cumulative Density')"
   ]
  },
  {
   "cell_type": "markdown",
   "metadata": {
    "slideshow": {
     "slide_type": "slide"
    }
   },
   "source": [
    "Q: Looking at the CDF, approximately what is the median of this dataset? The first quartile? The 75th percentile?"
   ]
  },
  {
   "cell_type": "code",
   "execution_count": 17,
   "metadata": {},
   "outputs": [
    {
     "data": {
      "text/plain": [
       "'median = 120, 1st quartile = 108, 75 percentile = 131.5'"
      ]
     },
     "execution_count": 17,
     "metadata": {},
     "output_type": "execute_result"
    }
   ],
   "source": [
    "\"\"\"median = 120, 1st quartile = 108, 75 percentile = 131.5\"\"\""
   ]
  },
  {
   "cell_type": "markdown",
   "metadata": {
    "slideshow": {
     "slide_type": "slide"
    }
   },
   "source": [
    "While PDFs are again, the underlying distribution behind a dataset, it can be helpful to see the comparison to histograms and the frequency of observations for a specific dataset to gain a deeper understanding:"
   ]
  },
  {
   "cell_type": "code",
   "execution_count": 11,
   "metadata": {
    "slideshow": {
     "slide_type": "slide"
    }
   },
   "outputs": [
    {
     "data": {
      "text/plain": [
       "<matplotlib.axes._subplots.AxesSubplot at 0x1a24a7bef0>"
      ]
     },
     "execution_count": 11,
     "metadata": {},
     "output_type": "execute_result"
    },
    {
     "data": {
      "image/png": "[encoded data removed]",
      "text/plain": [
       "<Figure size 432x288 with 1 Axes>"
      ]
     },
     "metadata": {
      "needs_background": "light"
     },
     "output_type": "display_data"
    }
   ],
   "source": [
    "df.weight.value_counts(normalize=True).sort_index().plot()"
   ]
  },
  {
   "cell_type": "markdown",
   "metadata": {
    "slideshow": {
     "slide_type": "slide"
    }
   },
   "source": [
    "## PMF -  Probability Mass Function\n",
    "\n",
    "Probability Mass Functions, are similar to Probability Density Functions but deal with discrete data which can only take on a finite set of values. A classic example is the Poisson distribution, which is often useful for estimating the probability of X events in a given interval. Some applications could be the number of calls you receive in a day, the number of tires you pop in a year, or anything else with a [small] average discrete rate."
   ]
  },
  {
   "cell_type": "markdown",
   "metadata": {
    "slideshow": {
     "slide_type": "slide"
    }
   },
   "source": [
    "Let's assume that you get an average of 4.5 calls per day. According to the Poisson distribution, the Probability Mass Function for this is defined by $\\frac{\\lambda^k e^{-\\lambda}}{k!}$, where lambda is the average rate and k is the observed occurences you wish to calculate the probability for. \n",
    "\n",
    "For example, given the current information, you might wonder what the probability of receiving exactly 6 calls in a day is.\n",
    "\n",
    "You could calculate that by substituting 4.5 in for $\\lambda$ and 6 in for k:\n",
    "\n",
    "$\\frac{4.5^6 e^{-4.5}}{6!}$"
   ]
  },
  {
   "cell_type": "markdown",
   "metadata": {
    "slideshow": {
     "slide_type": "slide"
    }
   },
   "source": [
    "Write a for loop to calculate the probability of receiving X calls per day over the range of 1 to 10 inclusive. Plot these probabilities as a PMF."
   ]
  },
  {
   "cell_type": "markdown",
   "metadata": {
    "slideshow": {
     "slide_type": "slide"
    }
   },
   "source": [
    "What's the probability of receiving less then 5 calls per day? More then 10?"
   ]
  },
  {
   "cell_type": "markdown",
   "metadata": {
    "slideshow": {
     "slide_type": "slide"
    }
   },
   "source": [
    "## Summary\n",
    "\n",
    "In this lesson, we investigated the concepts and properties behind Probability Mass Functions, Probability Density Functions and Cumulative Density Functions. Recall that a Cumulative Density Function is analagous to percentiles. Probability Mass Functions and Probability Density Functions investigate the relative likelihood of various observations for discrete and continuous cases, respectively. Remember that when dealing with a continuous variable, the probability of taking on a specific measurement is zero. Rather, we must practically investigate intervals of values."
   ]
  },
  {
   "cell_type": "markdown",
   "metadata": {
    "slideshow": {
     "slide_type": "slide"
    }
   },
   "source": [
    "## Adendum\n",
    "## Advanced PDF Exercises (with z-scores)"
   ]
  },
  {
   "cell_type": "markdown",
   "metadata": {
    "slideshow": {
     "slide_type": "slide"
    }
   },
   "source": [
    "An appropriate PDF to characterize our dataset could be the normal distribution, using the mean and standard deviation given above."
   ]
  },
  {
   "cell_type": "markdown",
   "metadata": {
    "slideshow": {
     "slide_type": "slide"
    }
   },
   "source": [
    "According to the PDF defined by the summary statistics above, what is the probability that an individual has a weight between 115 and 125 pounds?"
   ]
  },
  {
   "cell_type": "markdown",
   "metadata": {
    "slideshow": {
     "slide_type": "slide"
    }
   },
   "source": [
    "What is the observed probability of having a weight between 115 and 125 pounds according to the dataset?"
   ]
  }
 ],
 "metadata": {
  "celltoolbar": "Slideshow",
  "kernelspec": {
   "display_name": "Python 3",
   "language": "python",
   "name": "python3"
  },
  "language_info": {
   "codemirror_mode": {
    "name": "ipython",
    "version": 3
   },
   "file_extension": ".py",
   "mimetype": "text/x-python",
   "name": "python",
   "nbconvert_exporter": "python",
   "pygments_lexer": "ipython3",
   "version": "3.7.3"
  }
 },
 "nbformat": 4,
 "nbformat_minor": 2
}
